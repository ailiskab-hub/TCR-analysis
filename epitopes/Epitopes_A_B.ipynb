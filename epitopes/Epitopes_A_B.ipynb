{
 "cells": [
  {
   "cell_type": "code",
   "execution_count": 1,
   "id": "2656735d-bfad-4907-87ad-da95e07df9e2",
   "metadata": {},
   "outputs": [
    {
     "name": "stdout",
     "output_type": "stream",
     "text": [
      "There are 1 GPU(s) available.\n",
      "We will use the GPU: Tesla V100S-PCIE-32GB\n"
     ]
    }
   ],
   "source": [
    "import os.path\n",
    "\n",
    "import numpy as np\n",
    "import pandas as pd\n",
    "import matplotlib.pyplot as plt\n",
    "import seaborn as sns\n",
    "import random\n",
    "import re\n",
    "import torch\n",
    "from tqdm import tqdm\n",
    "from sklearn.preprocessing import MinMaxScaler\n",
    "\n",
    "from sklearn.utils import resample\n",
    "from sklearn.metrics import f1_score, accuracy_score, precision_score, recall_score\n",
    "from sklearn.preprocessing import LabelEncoder\n",
    "from sklearn.model_selection import train_test_split\n",
    "\n",
    "from torch.utils.data import DataLoader\n",
    "\n",
    "if torch.cuda.is_available():\n",
    "    device = torch.device(\"cuda\")\n",
    "    print('There are %d GPU(s) available.' % torch.cuda.device_count())\n",
    "    print('We will use the GPU:', torch.cuda.get_device_name(0))\n",
    "\n",
    "else:\n",
    "    print('No GPU available, using the CPU instead.')\n",
    "    device = torch.device(\"cpu\")\n"
   ]
  },
  {
   "cell_type": "code",
   "execution_count": 2,
   "id": "eaa9b16c-bd7b-4e5b-b811-3dd948466bb8",
   "metadata": {},
   "outputs": [],
   "source": [
    "import sys\n",
    "parent_dir = os.path.abspath(os.path.join(os.path.dirname('__file__'), '..'))\n",
    "sys.path.append(parent_dir)\n",
    "sys.path.append(os.path.abspath(os.path.join(parent_dir, '..')))"
   ]
  },
  {
   "cell_type": "code",
   "execution_count": 3,
   "id": "8dfa2449-e8ce-407b-8aac-1dce56283ce6",
   "metadata": {},
   "outputs": [
    {
     "name": "stdout",
     "output_type": "stream",
     "text": [
      "[2025-05-29 12:59:24,642] [INFO] [real_accelerator.py:191:get_accelerator] Setting ds_accelerator to cuda (auto detect)\n"
     ]
    }
   ],
   "source": [
    "from models_mdf import CustomModel, load_model_, save_model"
   ]
  },
  {
   "cell_type": "code",
   "execution_count": 4,
   "id": "cf7d0bab-05c0-4c1a-8113-1dd310dbee1e",
   "metadata": {},
   "outputs": [],
   "source": [
    "from sklearn.utils import resample\n",
    "from sklearn.preprocessing import LabelEncoder\n",
    "from sklearn.utils import column_or_1d\n",
    "\n",
    "\n",
    "\n",
    "class MyLabelEncoder(LabelEncoder):\n",
    "    def fit(self, y):\n",
    "        y = column_or_1d(y, warn=True)\n",
    "        self.classes_ = pd.Series(y).unique()\n",
    "        return self\n",
    "    \n",
    "    \n",
    "def add_spaces(seq):\n",
    "     return ' '.join(list(seq))\n",
    "    \n",
    "\n",
    "def balance_majority(genes: pd.DataFrame, colu, min_count=20, max_count=1500):\n",
    "    counts = genes[colu].value_counts()\n",
    "    counts = counts.drop(counts[min_count>counts].index)\n",
    "    resampled = pd.DataFrame()\n",
    "    maj_clss = (counts[counts>max_count]).index\n",
    "    left_genes = pd.DataFrame()\n",
    "    mean_clss = counts[(counts<max_count) & (min_count<counts)].index#[i for i in genes[colu] if i not in min_classes]\n",
    "    for cl in mean_clss:\n",
    "        #print(cl)\n",
    "        left_genes = pd.concat([left_genes, genes[genes[colu]==cl]])\n",
    "    for maj_cl in maj_clss:        \n",
    "        resampled = pd.concat([resampled, resample(genes[genes[colu] == maj_cl], replace=False, n_samples=max_count, random_state=42)])\n",
    "    return pd.concat([left_genes, resampled])"
   ]
  },
  {
   "cell_type": "code",
   "execution_count": 35,
   "id": "041de247-d55b-4b4e-89b1-271b6be5105b",
   "metadata": {},
   "outputs": [],
   "source": [
    "from sklearn.preprocessing import MinMaxScaler\n",
    "from natsort import natsorted\n",
    "\n",
    "\n",
    "def alphanumeric_sort(gene):\n",
    "    return [int(i) if i.isdigit() else i.lower() for i in re.split(r'(\\d+)', gene)]\n",
    "\n",
    "def draw_heatmap(pred_labels, ans, l_e, n_cl = None, show=True, save_dir=None, label = \"Матрица ошибок для альфа V генов\"):\n",
    "    pred_genes = l_e.inverse_transform(pred_labels)\n",
    "    ans_genes = l_e.inverse_transform(list(ans))\n",
    "    \n",
    "    if not n_cl:\n",
    "        classes = l_e.classes_\n",
    "    else:\n",
    "        classes = l_e.classes_[:n_cl]\n",
    "    \n",
    "    matrix = pd.DataFrame(data = 0, columns= classes, index= classes)\n",
    "    for i in range(len(ans_genes)):\n",
    "        matrix.loc[ans_genes[i], pred_genes[i]] += 1\n",
    "    \n",
    "    matrix_norm = MinMaxScaler().fit_transform(matrix.T)\n",
    "    matrix_norm = pd.DataFrame(data = matrix_norm.T, columns= classes, index= classes)\n",
    "    matrix_norm = matrix_norm.reindex(index=natsorted(matrix_norm.index, key=alphanumeric_sort))\n",
    "    matrix_norm = matrix_norm[natsorted(matrix_norm.columns, key=alphanumeric_sort)]\n",
    "    \n",
    "    if show:\n",
    "        plt.rcParams.update({\n",
    "            'xtick.labelsize': 15,  \n",
    "            'ytick.labelsize': 15})\n",
    "        \n",
    "        fig, ax = plt.subplots(figsize=(11,9)) \n",
    "        \n",
    "        sns.heatmap(matrix_norm, cmap=\"Greens\")\n",
    "        plt.title(label)\n",
    "        if save_dir is not None:\n",
    "            plt.savefig(save_dir)\n",
    "    return matrix_norm\n",
    "\n",
    "def norm(dist_matr):\n",
    "    \n",
    "    dfmax, dfmin = np.array(dist_matr).max(), np.array(dist_matr).min()\n",
    "\n",
    "    dist_matr_norm = (dist_matr - dfmin)/(dfmax - dfmin)\n",
    "\n",
    "    return dist_matr_norm"
   ]
  },
  {
   "cell_type": "code",
   "execution_count": 5,
   "id": "6bcc2157-2fd3-4c16-81da-897916d960c8",
   "metadata": {},
   "outputs": [],
   "source": [
    "vdjdb = pd.read_csv('../data/vdjdb_epitopes.csv')"
   ]
  },
  {
   "cell_type": "code",
   "execution_count": 6,
   "id": "473d8435-ccdd-4a7f-8350-72391d18c0d9",
   "metadata": {},
   "outputs": [
    {
     "data": {
      "text/html": [
       "<div>\n",
       "<style scoped>\n",
       "    .dataframe tbody tr th:only-of-type {\n",
       "        vertical-align: middle;\n",
       "    }\n",
       "\n",
       "    .dataframe tbody tr th {\n",
       "        vertical-align: top;\n",
       "    }\n",
       "\n",
       "    .dataframe thead th {\n",
       "        text-align: right;\n",
       "    }\n",
       "</style>\n",
       "<table border=\"1\" class=\"dataframe\">\n",
       "  <thead>\n",
       "    <tr style=\"text-align: right;\">\n",
       "      <th></th>\n",
       "      <th>cdr3.alpha</th>\n",
       "      <th>v.alpha</th>\n",
       "      <th>j.alpha</th>\n",
       "      <th>cdr3.beta</th>\n",
       "      <th>v.beta</th>\n",
       "      <th>d.beta</th>\n",
       "      <th>j.beta</th>\n",
       "      <th>antigen.epitope</th>\n",
       "      <th>mhc.class</th>\n",
       "    </tr>\n",
       "  </thead>\n",
       "  <tbody>\n",
       "    <tr>\n",
       "      <th>0</th>\n",
       "      <td>CIVRAPGRADMRF</td>\n",
       "      <td>TRAV26-1*01</td>\n",
       "      <td>TRAJ43*01</td>\n",
       "      <td>CASSYLPGQGDHYSNQPQHF</td>\n",
       "      <td>TRBV13*01</td>\n",
       "      <td>NaN</td>\n",
       "      <td>TRBJ1-5*01</td>\n",
       "      <td>FLKEKGGL</td>\n",
       "      <td>MHCI</td>\n",
       "    </tr>\n",
       "    <tr>\n",
       "      <th>1</th>\n",
       "      <td>NaN</td>\n",
       "      <td>NaN</td>\n",
       "      <td>NaN</td>\n",
       "      <td>CASSFEAGQGFFSNQPQHF</td>\n",
       "      <td>TRBV13*01</td>\n",
       "      <td>NaN</td>\n",
       "      <td>TRBJ1-5*01</td>\n",
       "      <td>FLKEKGGL</td>\n",
       "      <td>MHCI</td>\n",
       "    </tr>\n",
       "    <tr>\n",
       "      <th>2</th>\n",
       "      <td>CAVPSGAGSYQLTF</td>\n",
       "      <td>TRAV20*01</td>\n",
       "      <td>TRAJ28*01</td>\n",
       "      <td>CASSFEPGQGFYSNQPQHF</td>\n",
       "      <td>TRBV13*01</td>\n",
       "      <td>NaN</td>\n",
       "      <td>TRBJ1-5*01</td>\n",
       "      <td>FLKEKGGL</td>\n",
       "      <td>MHCI</td>\n",
       "    </tr>\n",
       "    <tr>\n",
       "      <th>3</th>\n",
       "      <td>CAVKASGSRLT</td>\n",
       "      <td>TRAV2*01</td>\n",
       "      <td>NaN</td>\n",
       "      <td>CASSYEPGQVSHYSNQPQHF</td>\n",
       "      <td>TRBV13*01</td>\n",
       "      <td>NaN</td>\n",
       "      <td>TRBJ1-5*01</td>\n",
       "      <td>FLKEKGGL</td>\n",
       "      <td>MHCI</td>\n",
       "    </tr>\n",
       "    <tr>\n",
       "      <th>4</th>\n",
       "      <td>CAYRPPGTYKYIF</td>\n",
       "      <td>TRAV38-2/DV8*01</td>\n",
       "      <td>TRAJ40*01</td>\n",
       "      <td>CASSALASLNEQFF</td>\n",
       "      <td>TRBV14*01</td>\n",
       "      <td>NaN</td>\n",
       "      <td>TRBJ2-1*01</td>\n",
       "      <td>FLKEKGGL</td>\n",
       "      <td>MHCI</td>\n",
       "    </tr>\n",
       "  </tbody>\n",
       "</table>\n",
       "</div>"
      ],
      "text/plain": [
       "       cdr3.alpha          v.alpha    j.alpha             cdr3.beta  \\\n",
       "0   CIVRAPGRADMRF      TRAV26-1*01  TRAJ43*01  CASSYLPGQGDHYSNQPQHF   \n",
       "1             NaN              NaN        NaN   CASSFEAGQGFFSNQPQHF   \n",
       "2  CAVPSGAGSYQLTF        TRAV20*01  TRAJ28*01   CASSFEPGQGFYSNQPQHF   \n",
       "3     CAVKASGSRLT         TRAV2*01        NaN  CASSYEPGQVSHYSNQPQHF   \n",
       "4   CAYRPPGTYKYIF  TRAV38-2/DV8*01  TRAJ40*01        CASSALASLNEQFF   \n",
       "\n",
       "      v.beta d.beta      j.beta antigen.epitope mhc.class  \n",
       "0  TRBV13*01    NaN  TRBJ1-5*01        FLKEKGGL      MHCI  \n",
       "1  TRBV13*01    NaN  TRBJ1-5*01        FLKEKGGL      MHCI  \n",
       "2  TRBV13*01    NaN  TRBJ1-5*01        FLKEKGGL      MHCI  \n",
       "3  TRBV13*01    NaN  TRBJ1-5*01        FLKEKGGL      MHCI  \n",
       "4  TRBV14*01    NaN  TRBJ2-1*01        FLKEKGGL      MHCI  "
      ]
     },
     "execution_count": 6,
     "metadata": {},
     "output_type": "execute_result"
    }
   ],
   "source": [
    "vdjdb.head()"
   ]
  },
  {
   "cell_type": "code",
   "execution_count": 7,
   "id": "827c5e84-a305-4a73-95eb-82fe40e0d6de",
   "metadata": {},
   "outputs": [
    {
     "data": {
      "text/plain": [
       "Index(['cdr3.alpha', 'v.alpha', 'j.alpha', 'cdr3.beta', 'v.beta', 'd.beta',\n",
       "       'j.beta', 'antigen.epitope', 'mhc.class'],\n",
       "      dtype='object')"
      ]
     },
     "execution_count": 7,
     "metadata": {},
     "output_type": "execute_result"
    }
   ],
   "source": [
    "vdjdb.columns\n"
   ]
  },
  {
   "cell_type": "code",
   "execution_count": 8,
   "id": "74b9bfa9-ac5b-4de2-a4ed-259d6d96a72e",
   "metadata": {},
   "outputs": [
    {
     "name": "stdout",
     "output_type": "stream",
     "text": [
      "(24075, 2)\n",
      "(24075, 2)\n"
     ]
    }
   ],
   "source": [
    "vdjb_alpha = vdjdb[['cdr3.alpha', 'antigen.epitope']].dropna()\n",
    "print(vdjb_alpha.shape)\n",
    "vdjb_alpha = vdjb_alpha[vdjb_alpha['antigen.epitope'] != 'KLGGALQAK']\n",
    "print(vdjb_alpha.shape)"
   ]
  },
  {
   "cell_type": "code",
   "execution_count": 10,
   "id": "d6adea4a-0ef7-40f9-938d-c803851514c8",
   "metadata": {},
   "outputs": [
    {
     "data": {
      "text/plain": [
       "array([  0,   1,   2,   3,   4,   5,   6,   7,   8,   9,  10,  11,  12,\n",
       "        13,  14,  15,  16,  17,  18,  19,  20,  21,  22,  23,  24,  25,\n",
       "        26,  27,  28,  29,  30,  31,  32,  33,  34,  35,  36,  37,  38,\n",
       "        39,  40,  41,  42,  43,  44,  45,  46,  47,  48,  49,  50,  51,\n",
       "        52,  53,  54,  55,  56,  57,  58,  59,  60,  61,  62,  63,  64,\n",
       "        65,  66,  67,  68,  69,  70,  71,  72,  73,  74,  75,  76,  77,\n",
       "        78,  79,  80,  81,  82,  83,  84,  85,  86,  87,  88,  89,  90,\n",
       "        91,  92,  93,  94,  95,  96,  97,  98,  99, 100, 101, 102, 103,\n",
       "       104, 105, 106, 107, 108, 109, 110, 111, 112, 113, 114, 115, 116,\n",
       "       117, 118, 119, 120, 121, 122, 123, 124, 125, 126, 127, 128, 129,\n",
       "       130, 131, 132, 133, 134, 135, 136, 137, 138, 139, 140, 141, 142,\n",
       "       143, 144, 145, 146, 147, 148, 149, 150, 151, 152, 153, 154, 155,\n",
       "       156, 157, 158, 159, 160, 161, 162, 163, 164, 165, 166, 167, 168,\n",
       "       169, 170, 171, 172, 173, 174, 175, 176, 177, 178, 179, 180, 181,\n",
       "       182, 183, 184, 185, 186, 187, 188, 189, 190, 191, 192, 193, 194,\n",
       "       195, 196, 197, 198, 199, 200, 201, 202, 203, 204, 205, 206, 207,\n",
       "       208, 209, 210, 211, 212, 213, 214, 215, 216, 217, 218, 219, 220,\n",
       "       221, 222, 223, 224, 225, 226, 227, 228, 229, 230, 231, 232, 233,\n",
       "       234, 235, 236, 237, 238, 239, 240, 241, 242, 243, 244, 245, 246,\n",
       "       247, 248, 249, 250, 251, 252, 253, 254, 255, 256, 257, 258, 259,\n",
       "       260, 261, 262, 263, 264, 265, 266, 267, 268, 269, 270, 271, 272,\n",
       "       273, 274, 275, 276, 277, 278, 279, 280, 281, 282, 283, 284, 285,\n",
       "       286, 287, 288, 289, 290, 291, 292, 293, 294, 295, 296, 297, 298,\n",
       "       299, 300, 301, 302, 303, 304, 305, 306, 307, 308, 309, 310, 311,\n",
       "       312, 313, 314, 315, 316, 317, 318, 319, 320, 321, 322, 323, 324,\n",
       "       325, 326, 327, 328, 329, 330, 331, 332, 333, 334, 335, 336, 337,\n",
       "       338, 339, 340, 341, 342, 343, 344, 345, 346, 347, 348, 349, 350,\n",
       "       351, 352, 353, 354, 355, 356, 357, 358, 359, 360, 361, 362, 363,\n",
       "       364, 365, 366, 367, 368, 369, 370, 371, 372, 373, 374, 375, 376,\n",
       "       377, 378, 379, 380, 381, 382, 383, 384, 385, 386, 387, 388, 389,\n",
       "       390, 391, 392, 393, 394, 395, 396, 397, 398, 399, 400, 401, 402,\n",
       "       403, 404, 405, 406, 407, 408, 409, 410, 411, 412, 413, 414, 415,\n",
       "       416, 417, 418, 419, 420, 421, 422, 423, 424, 425, 426, 427, 428,\n",
       "       429, 430, 431, 432, 433, 434, 435, 436, 437, 438, 439, 440, 441,\n",
       "       442, 443, 444, 445, 446, 447, 448, 449, 450, 451, 452, 453, 454,\n",
       "       455, 456, 457, 458, 459, 460, 461, 462, 463, 464, 465, 466, 467,\n",
       "       468, 469, 470, 471, 472, 473, 474, 475, 476, 477, 478, 479, 480,\n",
       "       481, 482, 483, 484, 485, 486, 487, 488, 489, 490, 491, 492, 493,\n",
       "       494, 495, 496, 497, 498, 499, 500, 501, 502, 503, 504, 505, 506,\n",
       "       507, 508, 509, 510, 511, 512, 513, 514, 515, 516, 517, 518, 519,\n",
       "       520, 521, 522, 523, 524, 525, 526, 527, 528, 529, 530, 531, 532,\n",
       "       533, 534, 535, 536, 537, 538, 539, 540, 541, 542, 543, 544, 545,\n",
       "       546, 547, 548, 549, 550, 551, 552, 553, 554, 555, 556, 557, 558,\n",
       "       559, 560, 561, 562, 563, 564, 565, 566, 567, 568, 569, 570, 571,\n",
       "       572, 573, 574, 575, 576, 577, 578, 579, 580, 581, 582, 583, 584,\n",
       "       585, 586, 587, 588, 589, 590, 591, 592, 593, 594, 595, 596, 597,\n",
       "       598, 599, 600, 601, 602, 603, 604, 605, 606, 607, 608, 609, 610,\n",
       "       611, 612, 613, 614, 615, 616, 617, 618, 619, 620, 621, 622, 623,\n",
       "       624, 625, 626, 627, 628, 629, 630, 631, 632, 633, 634, 635, 636,\n",
       "       637, 638, 639, 640, 641, 642, 643, 644, 645, 646, 647, 648, 649,\n",
       "       650, 651, 652, 653, 654, 655, 656, 657, 658, 659, 660, 661, 662,\n",
       "       663, 664, 665, 666, 667, 668, 669, 670, 671, 672, 673, 674, 675,\n",
       "       676, 677, 678, 679, 680, 681, 682, 683, 684, 685, 686, 687, 688,\n",
       "       689, 690, 691, 692, 693, 694, 695, 696, 697, 698, 699, 700, 701,\n",
       "       702, 703, 704, 705, 706, 707, 708, 709, 710, 711, 712, 713, 714,\n",
       "       715, 716, 717, 718, 719, 720, 721, 722, 723, 724, 725, 726, 727,\n",
       "       728, 729, 730, 731, 732, 733, 734, 735, 736, 737, 738, 739, 740,\n",
       "       741, 742, 743, 744, 745, 746, 747, 748, 749, 750, 751, 752, 753,\n",
       "       754, 755, 756, 757, 758, 759, 760, 761, 762, 763, 764, 765, 766,\n",
       "       767, 768, 769, 770, 771, 772, 773, 774, 775, 776, 777, 778, 779,\n",
       "       780, 781, 782, 783, 784, 785, 786, 787, 788, 789, 790, 791, 792,\n",
       "       793, 794, 795, 796, 797, 798, 799, 800, 801, 802, 803, 804, 805,\n",
       "       806, 807, 808, 809, 810, 811, 812, 813, 814, 815, 816, 817, 818,\n",
       "       819, 820, 821, 822, 823, 824, 825, 826, 827, 828, 829, 830, 831,\n",
       "       832, 833, 834, 835, 836, 837, 838, 839, 840, 841, 842, 843, 844,\n",
       "       845, 846, 847, 848, 849, 850, 851, 852, 853, 854, 855, 856, 857,\n",
       "       858, 859, 860, 861, 862, 863, 864, 865, 866, 867, 868, 869, 870,\n",
       "       871, 872, 873, 874, 875, 876, 877, 878, 879, 880, 881, 882, 883,\n",
       "       884, 885, 886, 887, 888, 889, 890, 891, 892, 893, 894, 895, 896,\n",
       "       897, 898, 899, 900, 901, 902, 903, 904, 905, 906, 907, 908, 909,\n",
       "       910, 911, 912, 913, 914, 915, 916, 917, 918, 919, 920, 921, 922,\n",
       "       923, 924, 925, 926, 927, 928, 929, 930, 931, 932, 933, 934, 935,\n",
       "       936, 937, 938, 939, 940, 941, 942, 943, 944, 945, 946, 947, 948,\n",
       "       949, 950, 951, 952, 953, 954, 955, 956, 957, 958, 959, 960, 961,\n",
       "       962, 963, 964, 965, 966, 967, 968, 969, 970, 971, 972, 973, 974,\n",
       "       975, 976])"
      ]
     },
     "execution_count": 10,
     "metadata": {},
     "output_type": "execute_result"
    }
   ],
   "source": [
    "le = MyLabelEncoder()\n",
    "groups = vdjb_alpha['antigen.epitope'].value_counts().index\n",
    "\n",
    "le.fit(groups)\n",
    "# groups\n",
    "le.transform(groups)"
   ]
  },
  {
   "cell_type": "code",
   "execution_count": 11,
   "id": "652d1872-2097-45c0-b6b8-4ea07cdbb630",
   "metadata": {},
   "outputs": [
    {
     "data": {
      "text/plain": [
       "15"
      ]
     },
     "execution_count": 11,
     "metadata": {},
     "output_type": "execute_result"
    }
   ],
   "source": [
    "vdjb_alpha['antigen.epitope'].value_counts()[vdjb_alpha['antigen.epitope'].value_counts()>400].shape[0]"
   ]
  },
  {
   "cell_type": "code",
   "execution_count": 12,
   "id": "a1386ba1-8aa8-40bb-a554-ae2cac042ea5",
   "metadata": {},
   "outputs": [
    {
     "data": {
      "text/html": [
       "<div>\n",
       "<style scoped>\n",
       "    .dataframe tbody tr th:only-of-type {\n",
       "        vertical-align: middle;\n",
       "    }\n",
       "\n",
       "    .dataframe tbody tr th {\n",
       "        vertical-align: top;\n",
       "    }\n",
       "\n",
       "    .dataframe thead th {\n",
       "        text-align: right;\n",
       "    }\n",
       "</style>\n",
       "<table border=\"1\" class=\"dataframe\">\n",
       "  <thead>\n",
       "    <tr style=\"text-align: right;\">\n",
       "      <th></th>\n",
       "      <th>cdr3.alpha</th>\n",
       "      <th>antigen.epitope</th>\n",
       "    </tr>\n",
       "  </thead>\n",
       "  <tbody>\n",
       "    <tr>\n",
       "      <th>0</th>\n",
       "      <td>CIVRAPGRADMRF</td>\n",
       "      <td>210</td>\n",
       "    </tr>\n",
       "    <tr>\n",
       "      <th>2</th>\n",
       "      <td>CAVPSGAGSYQLTF</td>\n",
       "      <td>210</td>\n",
       "    </tr>\n",
       "    <tr>\n",
       "      <th>3</th>\n",
       "      <td>CAVKASGSRLT</td>\n",
       "      <td>210</td>\n",
       "    </tr>\n",
       "    <tr>\n",
       "      <th>4</th>\n",
       "      <td>CAYRPPGTYKYIF</td>\n",
       "      <td>210</td>\n",
       "    </tr>\n",
       "    <tr>\n",
       "      <th>5</th>\n",
       "      <td>CIVRAPGRADMRF</td>\n",
       "      <td>305</td>\n",
       "    </tr>\n",
       "    <tr>\n",
       "      <th>...</th>\n",
       "      <td>...</td>\n",
       "      <td>...</td>\n",
       "    </tr>\n",
       "    <tr>\n",
       "      <th>48198</th>\n",
       "      <td>CMDEGGSNYKLTF</td>\n",
       "      <td>69</td>\n",
       "    </tr>\n",
       "    <tr>\n",
       "      <th>48199</th>\n",
       "      <td>CSLYNNNDMRF</td>\n",
       "      <td>69</td>\n",
       "    </tr>\n",
       "    <tr>\n",
       "      <th>48200</th>\n",
       "      <td>CALSTDSWGKLQF</td>\n",
       "      <td>150</td>\n",
       "    </tr>\n",
       "    <tr>\n",
       "      <th>48201</th>\n",
       "      <td>CAPQGATNKLIF</td>\n",
       "      <td>150</td>\n",
       "    </tr>\n",
       "    <tr>\n",
       "      <th>48202</th>\n",
       "      <td>CLVGGSGGYNKLIF</td>\n",
       "      <td>150</td>\n",
       "    </tr>\n",
       "  </tbody>\n",
       "</table>\n",
       "<p>24075 rows × 2 columns</p>\n",
       "</div>"
      ],
      "text/plain": [
       "           cdr3.alpha  antigen.epitope\n",
       "0       CIVRAPGRADMRF              210\n",
       "2      CAVPSGAGSYQLTF              210\n",
       "3         CAVKASGSRLT              210\n",
       "4       CAYRPPGTYKYIF              210\n",
       "5       CIVRAPGRADMRF              305\n",
       "...               ...              ...\n",
       "48198   CMDEGGSNYKLTF               69\n",
       "48199     CSLYNNNDMRF               69\n",
       "48200   CALSTDSWGKLQF              150\n",
       "48201    CAPQGATNKLIF              150\n",
       "48202  CLVGGSGGYNKLIF              150\n",
       "\n",
       "[24075 rows x 2 columns]"
      ]
     },
     "execution_count": 12,
     "metadata": {},
     "output_type": "execute_result"
    }
   ],
   "source": [
    "vdjb_alpha['antigen.epitope']= le.transform(vdjb_alpha['antigen.epitope'])\n",
    "vdjb_alpha"
   ]
  },
  {
   "cell_type": "code",
   "execution_count": 13,
   "id": "627c6dd1-bff1-479d-ab09-c98a9926019c",
   "metadata": {},
   "outputs": [],
   "source": [
    "vdjb_alpha = vdjb_alpha[vdjb_alpha['antigen.epitope']<=15]"
   ]
  },
  {
   "cell_type": "code",
   "execution_count": 14,
   "id": "12572b8e-222c-4d6f-ae83-776e48588302",
   "metadata": {},
   "outputs": [
    {
     "data": {
      "text/plain": [
       "<BarContainer object of 16 artists>"
      ]
     },
     "execution_count": 14,
     "metadata": {},
     "output_type": "execute_result"
    },
    {
     "data": {
      "image/png": "[encoded data removed]",
      "text/plain": [
       "<Figure size 640x480 with 1 Axes>"
      ]
     },
     "metadata": {},
     "output_type": "display_data"
    }
   ],
   "source": [
    "plt.bar(vdjb_alpha['antigen.epitope'].unique(), vdjb_alpha['antigen.epitope'].value_counts())"
   ]
  },
  {
   "cell_type": "code",
   "execution_count": 15,
   "id": "a9c0e706-5685-4cb9-a322-bbda2fc712d7",
   "metadata": {},
   "outputs": [],
   "source": [
    "alpha_data = vdjb_alpha.reset_index(drop=True)"
   ]
  },
  {
   "cell_type": "code",
   "execution_count": 16,
   "id": "a113901a-e33a-48bf-8d34-3934b427a06d",
   "metadata": {},
   "outputs": [
    {
     "data": {
      "text/plain": [
       "0     4774\n",
       "1     2746\n",
       "2     1764\n",
       "3     1235\n",
       "4      894\n",
       "5      729\n",
       "6      661\n",
       "7      470\n",
       "8      460\n",
       "9      437\n",
       "10     436\n",
       "11     431\n",
       "12     417\n",
       "13     410\n",
       "14     405\n",
       "15     333\n",
       "Name: antigen.epitope, dtype: int64"
      ]
     },
     "execution_count": 16,
     "metadata": {},
     "output_type": "execute_result"
    }
   ],
   "source": [
    "alpha_data['antigen.epitope'].value_counts()"
   ]
  },
  {
   "cell_type": "code",
   "execution_count": 17,
   "id": "a03e09b7-4955-4c09-ab44-f7b3796289db",
   "metadata": {},
   "outputs": [],
   "source": [
    "alpha_resampl = balance_majority(alpha_data, 'antigen.epitope', max_count=1000)"
   ]
  },
  {
   "cell_type": "code",
   "execution_count": 18,
   "id": "a20b1958-5232-444b-b187-0781b4ceb0e2",
   "metadata": {},
   "outputs": [
    {
     "data": {
      "text/html": [
       "<div>\n",
       "<style scoped>\n",
       "    .dataframe tbody tr th:only-of-type {\n",
       "        vertical-align: middle;\n",
       "    }\n",
       "\n",
       "    .dataframe tbody tr th {\n",
       "        vertical-align: top;\n",
       "    }\n",
       "\n",
       "    .dataframe thead th {\n",
       "        text-align: right;\n",
       "    }\n",
       "</style>\n",
       "<table border=\"1\" class=\"dataframe\">\n",
       "  <thead>\n",
       "    <tr style=\"text-align: right;\">\n",
       "      <th></th>\n",
       "      <th>cdr3.alpha</th>\n",
       "      <th>antigen.epitope</th>\n",
       "    </tr>\n",
       "  </thead>\n",
       "  <tbody>\n",
       "    <tr>\n",
       "      <th>78</th>\n",
       "      <td>CVVNRNNDMRF</td>\n",
       "      <td>4</td>\n",
       "    </tr>\n",
       "    <tr>\n",
       "      <th>79</th>\n",
       "      <td>CAVNRDDKIIF</td>\n",
       "      <td>4</td>\n",
       "    </tr>\n",
       "    <tr>\n",
       "      <th>502</th>\n",
       "      <td>CVVNSGNDMRF</td>\n",
       "      <td>4</td>\n",
       "    </tr>\n",
       "    <tr>\n",
       "      <th>503</th>\n",
       "      <td>CVVNKEDKIIF</td>\n",
       "      <td>4</td>\n",
       "    </tr>\n",
       "    <tr>\n",
       "      <th>504</th>\n",
       "      <td>CVVNRDTDKLIF</td>\n",
       "      <td>4</td>\n",
       "    </tr>\n",
       "    <tr>\n",
       "      <th>...</th>\n",
       "      <td>...</td>\n",
       "      <td>...</td>\n",
       "    </tr>\n",
       "    <tr>\n",
       "      <th>10117</th>\n",
       "      <td>CAVTHTGGFKTIF</td>\n",
       "      <td>3</td>\n",
       "    </tr>\n",
       "    <tr>\n",
       "      <th>10137</th>\n",
       "      <td>CAASETSYDKVIF</td>\n",
       "      <td>3</td>\n",
       "    </tr>\n",
       "    <tr>\n",
       "      <th>9777</th>\n",
       "      <td>CAMREGSGYTGNQFYF</td>\n",
       "      <td>3</td>\n",
       "    </tr>\n",
       "    <tr>\n",
       "      <th>8737</th>\n",
       "      <td>CILRDVRGQNFVF</td>\n",
       "      <td>3</td>\n",
       "    </tr>\n",
       "    <tr>\n",
       "      <th>9584</th>\n",
       "      <td>CAVPPKANNLFF</td>\n",
       "      <td>3</td>\n",
       "    </tr>\n",
       "  </tbody>\n",
       "</table>\n",
       "<p>8571 rows × 2 columns</p>\n",
       "</div>"
      ],
      "text/plain": [
       "             cdr3.alpha  antigen.epitope\n",
       "78          CVVNRNNDMRF                4\n",
       "79          CAVNRDDKIIF                4\n",
       "502         CVVNSGNDMRF                4\n",
       "503         CVVNKEDKIIF                4\n",
       "504        CVVNRDTDKLIF                4\n",
       "...                 ...              ...\n",
       "10117     CAVTHTGGFKTIF                3\n",
       "10137     CAASETSYDKVIF                3\n",
       "9777   CAMREGSGYTGNQFYF                3\n",
       "8737      CILRDVRGQNFVF                3\n",
       "9584       CAVPPKANNLFF                3\n",
       "\n",
       "[8571 rows x 2 columns]"
      ]
     },
     "execution_count": 18,
     "metadata": {},
     "output_type": "execute_result"
    }
   ],
   "source": [
    "alpha_test = alpha_resampl.sample(frac=0.15, random_state=42)\n",
    "alpha_train = alpha_resampl.drop(alpha_test.index)\n",
    "\n",
    "alpha_train"
   ]
  },
  {
   "cell_type": "code",
   "execution_count": 19,
   "id": "2cf837a1-4004-484b-abaa-01c3261c257d",
   "metadata": {},
   "outputs": [],
   "source": [
    "alpha_train['cdr3.alpha']  = alpha_train['cdr3.alpha'].apply(add_spaces)\n",
    "alpha_test['cdr3.alpha']  = alpha_test['cdr3.alpha'].apply(add_spaces)"
   ]
  },
  {
   "cell_type": "code",
   "execution_count": 20,
   "id": "05956b81-a3cd-4569-a433-264ac82dbcd5",
   "metadata": {},
   "outputs": [],
   "source": [
    "ans = alpha_test['antigen.epitope']\n",
    "alpha_test = alpha_test.drop(columns=['antigen.epitope'])"
   ]
  },
  {
   "cell_type": "code",
   "execution_count": 21,
   "id": "2dba2260-dfc8-46dc-80cb-4fa6c69d5916",
   "metadata": {},
   "outputs": [],
   "source": [
    "N_LABELS = alpha_train['antigen.epitope'].nunique()\n"
   ]
  },
  {
   "cell_type": "code",
   "execution_count": 22,
   "id": "c5648e4e-64bb-43c3-9c73-96dcd62ac9aa",
   "metadata": {},
   "outputs": [
    {
     "data": {
      "text/plain": [
       "16"
      ]
     },
     "execution_count": 22,
     "metadata": {},
     "output_type": "execute_result"
    }
   ],
   "source": [
    "N_LABELS"
   ]
  },
  {
   "cell_type": "code",
   "execution_count": null,
   "id": "13f82c2e-3b3f-4563-9058-d84603e74186",
   "metadata": {},
   "outputs": [],
   "source": []
  },
  {
   "cell_type": "code",
   "execution_count": null,
   "id": "1732bcd2-5af3-4b5c-8dc5-5fb9543095b5",
   "metadata": {},
   "outputs": [],
   "source": []
  },
  {
   "cell_type": "code",
   "execution_count": null,
   "id": "2e782f44-7bb7-4afc-817f-cb3cf5f981ff",
   "metadata": {},
   "outputs": [],
   "source": []
  },
  {
   "cell_type": "markdown",
   "id": "7d41ece7-ff41-4270-a214-05a652b76b87",
   "metadata": {},
   "source": [
    "### TCR-bert"
   ]
  },
  {
   "cell_type": "code",
   "execution_count": 23,
   "id": "d0bc4e01-64ad-4f8b-aeea-411f116af779",
   "metadata": {},
   "outputs": [
    {
     "name": "stderr",
     "output_type": "stream",
     "text": [
      "Some weights of the model checkpoint at wukevin/tcr-bert-mlm-only were not used when initializing BertForSequenceClassification: ['cls.predictions.transform.LayerNorm.weight', 'cls.predictions.transform.dense.bias', 'cls.predictions.bias', 'cls.predictions.decoder.weight', 'cls.predictions.transform.LayerNorm.bias', 'cls.predictions.transform.dense.weight', 'cls.predictions.decoder.bias']\n",
      "- This IS expected if you are initializing BertForSequenceClassification from the checkpoint of a model trained on another task or with another architecture (e.g. initializing a BertForSequenceClassification model from a BertForPreTraining model).\n",
      "- This IS NOT expected if you are initializing BertForSequenceClassification from the checkpoint of a model that you expect to be exactly identical (initializing a BertForSequenceClassification model from a BertForSequenceClassification model).\n",
      "Some weights of BertForSequenceClassification were not initialized from the model checkpoint at wukevin/tcr-bert-mlm-only and are newly initialized: ['classifier.weight', 'bert.pooler.dense.weight', 'classifier.bias', 'bert.pooler.dense.bias']\n",
      "You should probably TRAIN this model on a down-stream task to be able to use it for predictions and inference.\n"
     ]
    }
   ],
   "source": [
    "epit_mod = CustomModel(n_labels=N_LABELS)"
   ]
  },
  {
   "cell_type": "code",
   "execution_count": 24,
   "id": "f0c453ba-c857-41ed-8861-8965bba927cb",
   "metadata": {},
   "outputs": [],
   "source": [
    "alpha_train.reset_index(drop=True, inplace=True)"
   ]
  },
  {
   "cell_type": "code",
   "execution_count": 25,
   "id": "b91995e2-e61d-4bfb-ba12-36a8ec613fc5",
   "metadata": {},
   "outputs": [
    {
     "name": "stderr",
     "output_type": "stream",
     "text": [
      "/home/akabalina/.conda/envs/ft/lib/python3.9/site-packages/transformers/tokenization_utils_base.py:2339: FutureWarning: The `pad_to_max_length` argument is deprecated and will be removed in a future version, use `padding=True` or `padding='longest'` to pad to the longest sequence in the batch, or use `padding='max_length'` to pad to a max length. In this case, you can give a specific length with `max_length` (e.g. `max_length=45`) or leave max_length to None to pad to the maximal input size of the model (e.g. 512 for Bert).\n",
      "  warnings.warn(\n"
     ]
    }
   ],
   "source": [
    "input_ids, attention_masks, labels = epit_mod.tokenize(alpha_train['cdr3.alpha'], alpha_train['antigen.epitope'])"
   ]
  },
  {
   "cell_type": "code",
   "execution_count": 26,
   "id": "76728857-4db0-42b1-b4d6-3d133bc2e605",
   "metadata": {},
   "outputs": [
    {
     "name": "stdout",
     "output_type": "stream",
     "text": [
      "6,856 training samples\n",
      "1,715 validation samples\n"
     ]
    }
   ],
   "source": [
    "train_dataset, val_dataset = epit_mod.split_data(input_ids, attention_masks, labels)"
   ]
  },
  {
   "cell_type": "code",
   "execution_count": 27,
   "id": "fe9a2eba-d034-481f-baaa-f2dea4fa1708",
   "metadata": {},
   "outputs": [
    {
     "name": "stdout",
     "output_type": "stream",
     "text": [
      "\n",
      "======== Epoch 1 / 5 ========\n",
      "Training...\n",
      "\n",
      "  Average training loss: 2.02\n",
      "  Training epcoh took: 0:00:20\n",
      "\n",
      "Running Validation...\n",
      "  Accuracy: 0.41\n",
      "  Validation Loss: 1.86\n",
      "  Validation took: 0:00:01\n",
      "\n",
      "======== Epoch 2 / 5 ========\n",
      "Training...\n",
      "\n",
      "  Average training loss: 1.72\n",
      "  Training epcoh took: 0:00:18\n",
      "\n",
      "Running Validation...\n",
      "  Accuracy: 0.44\n",
      "  Validation Loss: 1.76\n",
      "  Validation took: 0:00:01\n",
      "\n",
      "======== Epoch 3 / 5 ========\n",
      "Training...\n",
      "\n",
      "  Average training loss: 1.56\n",
      "  Training epcoh took: 0:00:17\n",
      "\n",
      "Running Validation...\n",
      "  Accuracy: 0.45\n",
      "  Validation Loss: 1.75\n",
      "  Validation took: 0:00:01\n",
      "\n",
      "======== Epoch 4 / 5 ========\n",
      "Training...\n",
      "\n",
      "  Average training loss: 1.42\n",
      "  Training epcoh took: 0:00:17\n",
      "\n",
      "Running Validation...\n",
      "  Accuracy: 0.45\n",
      "  Validation Loss: 1.75\n",
      "  Validation took: 0:00:01\n",
      "\n",
      "======== Epoch 5 / 5 ========\n",
      "Training...\n",
      "\n",
      "  Average training loss: 1.31\n",
      "  Training epcoh took: 0:00:17\n",
      "\n",
      "Running Validation...\n",
      "  Accuracy: 0.45\n",
      "  Validation Loss: 1.76\n",
      "  Validation took: 0:00:01\n",
      "\n",
      "Training complete!\n"
     ]
    }
   ],
   "source": [
    "epit_mod.fit(train_dataset, val_dataset, epochs=5)"
   ]
  },
  {
   "cell_type": "code",
   "execution_count": 28,
   "id": "75e791ab-1679-46e5-93e0-7bb680efe6e2",
   "metadata": {},
   "outputs": [
    {
     "data": {
      "image/png": "[encoded data removed]",
      "text/plain": [
       "<Figure size 1200x600 with 1 Axes>"
      ]
     },
     "metadata": {},
     "output_type": "display_data"
    }
   ],
   "source": [
    "epit_mod.draw_stats_plot()"
   ]
  },
  {
   "cell_type": "code",
   "execution_count": 29,
   "id": "0a9242c5-4fa9-47f7-9e5d-5e61f12adc7e",
   "metadata": {},
   "outputs": [
    {
     "data": {
      "text/html": [
       "<div>\n",
       "<style scoped>\n",
       "    .dataframe tbody tr th:only-of-type {\n",
       "        vertical-align: middle;\n",
       "    }\n",
       "\n",
       "    .dataframe tbody tr th {\n",
       "        vertical-align: top;\n",
       "    }\n",
       "\n",
       "    .dataframe thead th {\n",
       "        text-align: right;\n",
       "    }\n",
       "</style>\n",
       "<table border=\"1\" class=\"dataframe\">\n",
       "  <thead>\n",
       "    <tr style=\"text-align: right;\">\n",
       "      <th></th>\n",
       "      <th>Training Loss</th>\n",
       "      <th>Valid. Loss</th>\n",
       "      <th>Valid. Accur.</th>\n",
       "      <th>Training Time</th>\n",
       "      <th>Validation Time</th>\n",
       "    </tr>\n",
       "    <tr>\n",
       "      <th>epoch</th>\n",
       "      <th></th>\n",
       "      <th></th>\n",
       "      <th></th>\n",
       "      <th></th>\n",
       "      <th></th>\n",
       "    </tr>\n",
       "  </thead>\n",
       "  <tbody>\n",
       "    <tr>\n",
       "      <th>1</th>\n",
       "      <td>2.022245</td>\n",
       "      <td>1.856982</td>\n",
       "      <td>0.406443</td>\n",
       "      <td>0:00:20</td>\n",
       "      <td>0:00:01</td>\n",
       "    </tr>\n",
       "    <tr>\n",
       "      <th>2</th>\n",
       "      <td>1.721960</td>\n",
       "      <td>1.755460</td>\n",
       "      <td>0.441744</td>\n",
       "      <td>0:00:18</td>\n",
       "      <td>0:00:01</td>\n",
       "    </tr>\n",
       "    <tr>\n",
       "      <th>3</th>\n",
       "      <td>1.561682</td>\n",
       "      <td>1.746985</td>\n",
       "      <td>0.449846</td>\n",
       "      <td>0:00:17</td>\n",
       "      <td>0:00:01</td>\n",
       "    </tr>\n",
       "    <tr>\n",
       "      <th>4</th>\n",
       "      <td>1.421668</td>\n",
       "      <td>1.753772</td>\n",
       "      <td>0.445795</td>\n",
       "      <td>0:00:17</td>\n",
       "      <td>0:00:01</td>\n",
       "    </tr>\n",
       "    <tr>\n",
       "      <th>5</th>\n",
       "      <td>1.308065</td>\n",
       "      <td>1.759350</td>\n",
       "      <td>0.447531</td>\n",
       "      <td>0:00:17</td>\n",
       "      <td>0:00:01</td>\n",
       "    </tr>\n",
       "  </tbody>\n",
       "</table>\n",
       "</div>"
      ],
      "text/plain": [
       "       Training Loss  Valid. Loss  Valid. Accur. Training Time Validation Time\n",
       "epoch                                                                         \n",
       "1           2.022245     1.856982       0.406443       0:00:20         0:00:01\n",
       "2           1.721960     1.755460       0.441744       0:00:18         0:00:01\n",
       "3           1.561682     1.746985       0.449846       0:00:17         0:00:01\n",
       "4           1.421668     1.753772       0.445795       0:00:17         0:00:01\n",
       "5           1.308065     1.759350       0.447531       0:00:17         0:00:01"
      ]
     },
     "execution_count": 29,
     "metadata": {},
     "output_type": "execute_result"
    }
   ],
   "source": [
    "epit_mod.get_stats()"
   ]
  },
  {
   "cell_type": "code",
   "execution_count": 31,
   "id": "9200b9d0-2495-48e6-be6a-ab89d6214447",
   "metadata": {},
   "outputs": [
    {
     "data": {
      "text/html": [
       "<div>\n",
       "<style scoped>\n",
       "    .dataframe tbody tr th:only-of-type {\n",
       "        vertical-align: middle;\n",
       "    }\n",
       "\n",
       "    .dataframe tbody tr th {\n",
       "        vertical-align: top;\n",
       "    }\n",
       "\n",
       "    .dataframe thead th {\n",
       "        text-align: right;\n",
       "    }\n",
       "</style>\n",
       "<table border=\"1\" class=\"dataframe\">\n",
       "  <thead>\n",
       "    <tr style=\"text-align: right;\">\n",
       "      <th></th>\n",
       "      <th>cdr3.alpha</th>\n",
       "    </tr>\n",
       "  </thead>\n",
       "  <tbody>\n",
       "    <tr>\n",
       "      <th>1594</th>\n",
       "      <td>C A G L K T D S W G K L Q F</td>\n",
       "    </tr>\n",
       "    <tr>\n",
       "      <th>531</th>\n",
       "      <td>C V V N M N N N D M R F</td>\n",
       "    </tr>\n",
       "    <tr>\n",
       "      <th>16516</th>\n",
       "      <td>C A G M N Y G G S Q G N L I F</td>\n",
       "    </tr>\n",
       "    <tr>\n",
       "      <th>14481</th>\n",
       "      <td>C A M D P L T G G G N K L T F</td>\n",
       "    </tr>\n",
       "    <tr>\n",
       "      <th>12241</th>\n",
       "      <td>C A A S G G Y Q N F Y F</td>\n",
       "    </tr>\n",
       "    <tr>\n",
       "      <th>...</th>\n",
       "      <td>...</td>\n",
       "    </tr>\n",
       "    <tr>\n",
       "      <th>351</th>\n",
       "      <td>C A M S R G N F G N E K L T F</td>\n",
       "    </tr>\n",
       "    <tr>\n",
       "      <th>4236</th>\n",
       "      <td>C A P N T G T A S K L T F</td>\n",
       "    </tr>\n",
       "    <tr>\n",
       "      <th>387</th>\n",
       "      <td>C A V S T G A N N L F F</td>\n",
       "    </tr>\n",
       "    <tr>\n",
       "      <th>4873</th>\n",
       "      <td>C A G S Y G G S Q G N L I F</td>\n",
       "    </tr>\n",
       "    <tr>\n",
       "      <th>1317</th>\n",
       "      <td>C A G S F G G Y N K L I F</td>\n",
       "    </tr>\n",
       "  </tbody>\n",
       "</table>\n",
       "<p>1512 rows × 1 columns</p>\n",
       "</div>"
      ],
      "text/plain": [
       "                          cdr3.alpha\n",
       "1594     C A G L K T D S W G K L Q F\n",
       "531          C V V N M N N N D M R F\n",
       "16516  C A G M N Y G G S Q G N L I F\n",
       "14481  C A M D P L T G G G N K L T F\n",
       "12241        C A A S G G Y Q N F Y F\n",
       "...                              ...\n",
       "351    C A M S R G N F G N E K L T F\n",
       "4236       C A P N T G T A S K L T F\n",
       "387          C A V S T G A N N L F F\n",
       "4873     C A G S Y G G S Q G N L I F\n",
       "1317       C A G S F G G Y N K L I F\n",
       "\n",
       "[1512 rows x 1 columns]"
      ]
     },
     "execution_count": 31,
     "metadata": {},
     "output_type": "execute_result"
    }
   ],
   "source": [
    "alpha_test"
   ]
  },
  {
   "cell_type": "code",
   "execution_count": 33,
   "id": "25983c8f-3814-4883-8e5c-d5e73498cc93",
   "metadata": {},
   "outputs": [
    {
     "name": "stderr",
     "output_type": "stream",
     "text": [
      "/home/akabalina/.conda/envs/ft/lib/python3.9/site-packages/transformers/tokenization_utils_base.py:2339: FutureWarning: The `pad_to_max_length` argument is deprecated and will be removed in a future version, use `padding=True` or `padding='longest'` to pad to the longest sequence in the batch, or use `padding='max_length'` to pad to a max length. In this case, you can give a specific length with `max_length` (e.g. `max_length=45`) or leave max_length to None to pad to the maximal input size of the model (e.g. 512 for Bert).\n",
      "  warnings.warn(\n"
     ]
    },
    {
     "name": "stdout",
     "output_type": "stream",
     "text": [
      "Total f1_score: 0.47739\n"
     ]
    }
   ],
   "source": [
    "pred_labels = epit_mod.predict(alpha_test['cdr3.alpha'])\n",
    "f1_sc = f1_score(ans, pred_labels, average='weighted')\n",
    "print('Total f1_score: %.5f' % f1_sc)"
   ]
  },
  {
   "cell_type": "code",
   "execution_count": 36,
   "id": "daa5a071-9e5c-4fff-848e-ba093ee9a476",
   "metadata": {},
   "outputs": [
    {
     "data": {
      "image/png": "[encoded data removed]",
      "text/plain": [
       "<Figure size 1100x900 with 2 Axes>"
      ]
     },
     "metadata": {},
     "output_type": "display_data"
    }
   ],
   "source": [
    "notm_matrix_epit = draw_heatmap(pred_labels, ans.values, le, n_cl=N_LABELS, label='Матрица ошибок для эпитопов')\n"
   ]
  },
  {
   "cell_type": "code",
   "execution_count": 38,
   "id": "04360b7a-0c20-4184-abc3-f5e6778a3f19",
   "metadata": {},
   "outputs": [],
   "source": [
    "save_model(epit_mod, 'models_ft/alpha_tct.pth')"
   ]
  },
  {
   "cell_type": "code",
   "execution_count": null,
   "id": "d8002fbb-0877-481f-a9de-5783667b805d",
   "metadata": {},
   "outputs": [],
   "source": []
  },
  {
   "cell_type": "markdown",
   "id": "3cf7b9ef-ccde-4ba2-a50d-347968cb70d5",
   "metadata": {},
   "source": [
    "## Beta "
   ]
  },
  {
   "cell_type": "code",
   "execution_count": 39,
   "id": "3af92c17-2669-4a2d-b87c-842d53536372",
   "metadata": {},
   "outputs": [
    {
     "name": "stdout",
     "output_type": "stream",
     "text": [
      "(40748, 2)\n",
      "(40748, 2)\n"
     ]
    }
   ],
   "source": [
    "vdjb_beta = vdjdb[['cdr3.beta', 'antigen.epitope']].dropna()\n",
    "print(vdjb_beta.shape)\n",
    "vdjb_beta = vdjb_beta[vdjb_beta['antigen.epitope'] != 'KLGGALQAK']\n",
    "print(vdjb_beta.shape)"
   ]
  },
  {
   "cell_type": "code",
   "execution_count": 40,
   "id": "d419fbc5-5873-4003-8926-cd7169af760f",
   "metadata": {},
   "outputs": [
    {
     "data": {
      "text/plain": [
       "array([   0,    1,    2, ..., 1164, 1165, 1166])"
      ]
     },
     "execution_count": 40,
     "metadata": {},
     "output_type": "execute_result"
    }
   ],
   "source": [
    "le_beta = MyLabelEncoder()\n",
    "groups_beta = vdjb_beta['antigen.epitope'].value_counts().index\n",
    "\n",
    "le_beta.fit(groups_beta)\n",
    "# groups\n",
    "le_beta.transform(groups_beta)"
   ]
  },
  {
   "cell_type": "code",
   "execution_count": 41,
   "id": "bf7985ab-19c8-4da5-90e1-57264ea418a8",
   "metadata": {},
   "outputs": [
    {
     "data": {
      "text/plain": [
       "16"
      ]
     },
     "execution_count": 41,
     "metadata": {},
     "output_type": "execute_result"
    }
   ],
   "source": [
    "vdjb_beta['antigen.epitope'].value_counts()[vdjb_beta['antigen.epitope'].value_counts()>450].shape[0]"
   ]
  },
  {
   "cell_type": "code",
   "execution_count": 42,
   "id": "52b8d68c-7566-4e47-bcda-9c89b07b7ef4",
   "metadata": {},
   "outputs": [
    {
     "data": {
      "text/html": [
       "<div>\n",
       "<style scoped>\n",
       "    .dataframe tbody tr th:only-of-type {\n",
       "        vertical-align: middle;\n",
       "    }\n",
       "\n",
       "    .dataframe tbody tr th {\n",
       "        vertical-align: top;\n",
       "    }\n",
       "\n",
       "    .dataframe thead th {\n",
       "        text-align: right;\n",
       "    }\n",
       "</style>\n",
       "<table border=\"1\" class=\"dataframe\">\n",
       "  <thead>\n",
       "    <tr style=\"text-align: right;\">\n",
       "      <th></th>\n",
       "      <th>cdr3.beta</th>\n",
       "      <th>antigen.epitope</th>\n",
       "    </tr>\n",
       "  </thead>\n",
       "  <tbody>\n",
       "    <tr>\n",
       "      <th>0</th>\n",
       "      <td>CASSYLPGQGDHYSNQPQHF</td>\n",
       "      <td>33</td>\n",
       "    </tr>\n",
       "    <tr>\n",
       "      <th>1</th>\n",
       "      <td>CASSFEAGQGFFSNQPQHF</td>\n",
       "      <td>33</td>\n",
       "    </tr>\n",
       "    <tr>\n",
       "      <th>2</th>\n",
       "      <td>CASSFEPGQGFYSNQPQHF</td>\n",
       "      <td>33</td>\n",
       "    </tr>\n",
       "    <tr>\n",
       "      <th>3</th>\n",
       "      <td>CASSYEPGQVSHYSNQPQHF</td>\n",
       "      <td>33</td>\n",
       "    </tr>\n",
       "    <tr>\n",
       "      <th>4</th>\n",
       "      <td>CASSALASLNEQFF</td>\n",
       "      <td>33</td>\n",
       "    </tr>\n",
       "    <tr>\n",
       "      <th>...</th>\n",
       "      <td>...</td>\n",
       "      <td>...</td>\n",
       "    </tr>\n",
       "    <tr>\n",
       "      <th>48198</th>\n",
       "      <td>CASSVRSTDTQYF</td>\n",
       "      <td>128</td>\n",
       "    </tr>\n",
       "    <tr>\n",
       "      <th>48199</th>\n",
       "      <td>CASSLRYTDTQYF</td>\n",
       "      <td>128</td>\n",
       "    </tr>\n",
       "    <tr>\n",
       "      <th>48200</th>\n",
       "      <td>CASSPGQGGDNEQFF</td>\n",
       "      <td>239</td>\n",
       "    </tr>\n",
       "    <tr>\n",
       "      <th>48201</th>\n",
       "      <td>CASSLGAGGQETQYF</td>\n",
       "      <td>239</td>\n",
       "    </tr>\n",
       "    <tr>\n",
       "      <th>48202</th>\n",
       "      <td>CASSSTAQETQYF</td>\n",
       "      <td>239</td>\n",
       "    </tr>\n",
       "  </tbody>\n",
       "</table>\n",
       "<p>40748 rows × 2 columns</p>\n",
       "</div>"
      ],
      "text/plain": [
       "                  cdr3.beta  antigen.epitope\n",
       "0      CASSYLPGQGDHYSNQPQHF               33\n",
       "1       CASSFEAGQGFFSNQPQHF               33\n",
       "2       CASSFEPGQGFYSNQPQHF               33\n",
       "3      CASSYEPGQVSHYSNQPQHF               33\n",
       "4            CASSALASLNEQFF               33\n",
       "...                     ...              ...\n",
       "48198         CASSVRSTDTQYF              128\n",
       "48199         CASSLRYTDTQYF              128\n",
       "48200       CASSPGQGGDNEQFF              239\n",
       "48201       CASSLGAGGQETQYF              239\n",
       "48202         CASSSTAQETQYF              239\n",
       "\n",
       "[40748 rows x 2 columns]"
      ]
     },
     "execution_count": 42,
     "metadata": {},
     "output_type": "execute_result"
    }
   ],
   "source": [
    "vdjb_beta['antigen.epitope']= le_beta.transform(vdjb_beta['antigen.epitope'])\n",
    "vdjb_beta"
   ]
  },
  {
   "cell_type": "code",
   "execution_count": 43,
   "id": "0c269d4c-e279-4576-9b8d-7833781af3f1",
   "metadata": {},
   "outputs": [],
   "source": [
    "vdjb_beta = vdjb_beta[vdjb_beta['antigen.epitope']<16]"
   ]
  },
  {
   "cell_type": "code",
   "execution_count": 44,
   "id": "b4f688d4-3618-4df5-a274-bf96a1c22695",
   "metadata": {},
   "outputs": [
    {
     "data": {
      "text/plain": [
       "<BarContainer object of 16 artists>"
      ]
     },
     "execution_count": 44,
     "metadata": {},
     "output_type": "execute_result"
    },
    {
     "data": {
      "image/png": "[encoded data removed]",
      "text/plain": [
       "<Figure size 640x480 with 1 Axes>"
      ]
     },
     "metadata": {},
     "output_type": "display_data"
    }
   ],
   "source": [
    "plt.bar(vdjb_beta['antigen.epitope'].unique(), vdjb_beta['antigen.epitope'].value_counts())"
   ]
  },
  {
   "cell_type": "code",
   "execution_count": 45,
   "id": "b589dc1c-19f1-4b06-8d37-7b7437a043bd",
   "metadata": {},
   "outputs": [],
   "source": [
    "beta_data = vdjb_beta.reset_index(drop=True)"
   ]
  },
  {
   "cell_type": "code",
   "execution_count": 46,
   "id": "9bfa90a7-ce19-4728-87e7-9897502f4aef",
   "metadata": {},
   "outputs": [
    {
     "data": {
      "text/plain": [
       "0     5258\n",
       "1     5250\n",
       "2     2282\n",
       "3     1782\n",
       "4     1521\n",
       "5     1443\n",
       "6     1114\n",
       "7      873\n",
       "8      847\n",
       "9      757\n",
       "10     661\n",
       "11     610\n",
       "12     595\n",
       "13     495\n",
       "14     477\n",
       "15     456\n",
       "Name: antigen.epitope, dtype: int64"
      ]
     },
     "execution_count": 46,
     "metadata": {},
     "output_type": "execute_result"
    }
   ],
   "source": [
    "beta_data['antigen.epitope'].value_counts()"
   ]
  },
  {
   "cell_type": "code",
   "execution_count": 47,
   "id": "d0297509-4237-4875-aedb-012fec68489a",
   "metadata": {},
   "outputs": [],
   "source": [
    "beta_resampl = balance_majority(beta_data, 'antigen.epitope', max_count=1000)"
   ]
  },
  {
   "cell_type": "code",
   "execution_count": 48,
   "id": "7b0db40d-3bba-428f-8154-cdff2f05e431",
   "metadata": {},
   "outputs": [
    {
     "data": {
      "text/html": [
       "<div>\n",
       "<style scoped>\n",
       "    .dataframe tbody tr th:only-of-type {\n",
       "        vertical-align: middle;\n",
       "    }\n",
       "\n",
       "    .dataframe tbody tr th {\n",
       "        vertical-align: top;\n",
       "    }\n",
       "\n",
       "    .dataframe thead th {\n",
       "        text-align: right;\n",
       "    }\n",
       "</style>\n",
       "<table border=\"1\" class=\"dataframe\">\n",
       "  <thead>\n",
       "    <tr style=\"text-align: right;\">\n",
       "      <th></th>\n",
       "      <th>cdr3.beta</th>\n",
       "      <th>antigen.epitope</th>\n",
       "    </tr>\n",
       "  </thead>\n",
       "  <tbody>\n",
       "    <tr>\n",
       "      <th>21451</th>\n",
       "      <td>CASSQERTSNTEAFF</td>\n",
       "      <td>7</td>\n",
       "    </tr>\n",
       "    <tr>\n",
       "      <th>21452</th>\n",
       "      <td>CASSLNRLEKETQYF</td>\n",
       "      <td>7</td>\n",
       "    </tr>\n",
       "    <tr>\n",
       "      <th>21453</th>\n",
       "      <td>CASSLDRISNQPQYF</td>\n",
       "      <td>7</td>\n",
       "    </tr>\n",
       "    <tr>\n",
       "      <th>21454</th>\n",
       "      <td>CASSQDRPGLANTEAFF</td>\n",
       "      <td>7</td>\n",
       "    </tr>\n",
       "    <tr>\n",
       "      <th>21455</th>\n",
       "      <td>CASREFGNLNQPQYF</td>\n",
       "      <td>7</td>\n",
       "    </tr>\n",
       "    <tr>\n",
       "      <th>...</th>\n",
       "      <td>...</td>\n",
       "      <td>...</td>\n",
       "    </tr>\n",
       "    <tr>\n",
       "      <th>22837</th>\n",
       "      <td>CASSLDIEAFF</td>\n",
       "      <td>6</td>\n",
       "    </tr>\n",
       "    <tr>\n",
       "      <th>23419</th>\n",
       "      <td>CASSDLNTGELFF</td>\n",
       "      <td>6</td>\n",
       "    </tr>\n",
       "    <tr>\n",
       "      <th>22939</th>\n",
       "      <td>CASSDLSTGELFF</td>\n",
       "      <td>6</td>\n",
       "    </tr>\n",
       "    <tr>\n",
       "      <th>23243</th>\n",
       "      <td>CATQAVNTGELFF</td>\n",
       "      <td>6</td>\n",
       "    </tr>\n",
       "    <tr>\n",
       "      <th>11044</th>\n",
       "      <td>CSARDSRGQNTGELFF</td>\n",
       "      <td>6</td>\n",
       "    </tr>\n",
       "  </tbody>\n",
       "</table>\n",
       "<p>10855 rows × 2 columns</p>\n",
       "</div>"
      ],
      "text/plain": [
       "               cdr3.beta  antigen.epitope\n",
       "21451    CASSQERTSNTEAFF                7\n",
       "21452    CASSLNRLEKETQYF                7\n",
       "21453    CASSLDRISNQPQYF                7\n",
       "21454  CASSQDRPGLANTEAFF                7\n",
       "21455    CASREFGNLNQPQYF                7\n",
       "...                  ...              ...\n",
       "22837        CASSLDIEAFF                6\n",
       "23419      CASSDLNTGELFF                6\n",
       "22939      CASSDLSTGELFF                6\n",
       "23243      CATQAVNTGELFF                6\n",
       "11044   CSARDSRGQNTGELFF                6\n",
       "\n",
       "[10855 rows x 2 columns]"
      ]
     },
     "execution_count": 48,
     "metadata": {},
     "output_type": "execute_result"
    }
   ],
   "source": [
    "beta_test = beta_resampl.sample(frac=0.15, random_state=42)\n",
    "beta_train = beta_resampl.drop(beta_test.index)\n",
    "\n",
    "beta_train"
   ]
  },
  {
   "cell_type": "code",
   "execution_count": 49,
   "id": "a36cadac-6716-4022-ba3c-28a60cecc1ce",
   "metadata": {},
   "outputs": [],
   "source": [
    "beta_train['cdr3.beta']  = beta_train['cdr3.beta'].apply(add_spaces)\n",
    "beta_test['cdr3.beta']  = beta_test['cdr3.beta'].apply(add_spaces)"
   ]
  },
  {
   "cell_type": "code",
   "execution_count": 50,
   "id": "bd651f44-062f-431c-8f05-ead839196a9c",
   "metadata": {},
   "outputs": [],
   "source": [
    "ans = beta_test['antigen.epitope']\n",
    "beta_test = beta_test.drop(columns=['antigen.epitope'])"
   ]
  },
  {
   "cell_type": "code",
   "execution_count": 51,
   "id": "1599a7c1-969b-4e85-bd60-58af0c7f82e2",
   "metadata": {},
   "outputs": [],
   "source": [
    "N_LABELS_beta = beta_train['antigen.epitope'].nunique()\n"
   ]
  },
  {
   "cell_type": "code",
   "execution_count": 52,
   "id": "f8e2dce8-0e8a-4b3c-8f27-a20915f77a35",
   "metadata": {},
   "outputs": [
    {
     "data": {
      "text/plain": [
       "16"
      ]
     },
     "execution_count": 52,
     "metadata": {},
     "output_type": "execute_result"
    }
   ],
   "source": [
    "N_LABELS_beta"
   ]
  },
  {
   "cell_type": "markdown",
   "id": "3db02970-0584-4650-9a5d-9d08a6060a1b",
   "metadata": {},
   "source": [
    "### TCR-bert"
   ]
  },
  {
   "cell_type": "code",
   "execution_count": 53,
   "id": "b18138bb-c245-4bee-877a-b9fdeb7f06a8",
   "metadata": {},
   "outputs": [
    {
     "name": "stderr",
     "output_type": "stream",
     "text": [
      "Some weights of the model checkpoint at wukevin/tcr-bert-mlm-only were not used when initializing BertForSequenceClassification: ['cls.predictions.transform.LayerNorm.weight', 'cls.predictions.transform.dense.bias', 'cls.predictions.bias', 'cls.predictions.decoder.weight', 'cls.predictions.transform.LayerNorm.bias', 'cls.predictions.transform.dense.weight', 'cls.predictions.decoder.bias']\n",
      "- This IS expected if you are initializing BertForSequenceClassification from the checkpoint of a model trained on another task or with another architecture (e.g. initializing a BertForSequenceClassification model from a BertForPreTraining model).\n",
      "- This IS NOT expected if you are initializing BertForSequenceClassification from the checkpoint of a model that you expect to be exactly identical (initializing a BertForSequenceClassification model from a BertForSequenceClassification model).\n",
      "Some weights of BertForSequenceClassification were not initialized from the model checkpoint at wukevin/tcr-bert-mlm-only and are newly initialized: ['classifier.weight', 'bert.pooler.dense.weight', 'classifier.bias', 'bert.pooler.dense.bias']\n",
      "You should probably TRAIN this model on a down-stream task to be able to use it for predictions and inference.\n"
     ]
    }
   ],
   "source": [
    "epit_mod_beta = CustomModel(n_labels=N_LABELS_beta)"
   ]
  },
  {
   "cell_type": "code",
   "execution_count": 54,
   "id": "957bf6bb-d3c1-40b6-a554-dd6f9ee1230a",
   "metadata": {},
   "outputs": [],
   "source": [
    "beta_train.reset_index(drop=True, inplace=True)"
   ]
  },
  {
   "cell_type": "code",
   "execution_count": 55,
   "id": "5c548609-a40c-4a19-8b7a-1f9d07d821c0",
   "metadata": {},
   "outputs": [
    {
     "name": "stderr",
     "output_type": "stream",
     "text": [
      "/home/akabalina/.conda/envs/ft/lib/python3.9/site-packages/transformers/tokenization_utils_base.py:2339: FutureWarning: The `pad_to_max_length` argument is deprecated and will be removed in a future version, use `padding=True` or `padding='longest'` to pad to the longest sequence in the batch, or use `padding='max_length'` to pad to a max length. In this case, you can give a specific length with `max_length` (e.g. `max_length=45`) or leave max_length to None to pad to the maximal input size of the model (e.g. 512 for Bert).\n",
      "  warnings.warn(\n"
     ]
    }
   ],
   "source": [
    "input_ids, attention_masks, labels = epit_mod_beta.tokenize(beta_train['cdr3.beta'], beta_train['antigen.epitope'])"
   ]
  },
  {
   "cell_type": "code",
   "execution_count": 56,
   "id": "e78de851-e478-4a33-a9a4-273667bb8e97",
   "metadata": {},
   "outputs": [
    {
     "name": "stdout",
     "output_type": "stream",
     "text": [
      "8,684 training samples\n",
      "2,171 validation samples\n"
     ]
    }
   ],
   "source": [
    "train_dataset, val_dataset = epit_mod_beta.split_data(input_ids, attention_masks, labels)"
   ]
  },
  {
   "cell_type": "code",
   "execution_count": 57,
   "id": "55f59381-ab17-4e5b-a874-af80900b7434",
   "metadata": {},
   "outputs": [
    {
     "name": "stdout",
     "output_type": "stream",
     "text": [
      "\n",
      "======== Epoch 1 / 5 ========\n",
      "Training...\n",
      "\n",
      "  Average training loss: 1.89\n",
      "  Training epcoh took: 0:00:25\n",
      "\n",
      "Running Validation...\n",
      "  Accuracy: 0.46\n",
      "  Validation Loss: 1.67\n",
      "  Validation took: 0:00:02\n",
      "\n",
      "======== Epoch 2 / 5 ========\n",
      "Training...\n",
      "\n",
      "  Average training loss: 1.52\n",
      "  Training epcoh took: 0:00:25\n",
      "\n",
      "Running Validation...\n",
      "  Accuracy: 0.50\n",
      "  Validation Loss: 1.58\n",
      "  Validation took: 0:00:02\n",
      "\n",
      "======== Epoch 3 / 5 ========\n",
      "Training...\n",
      "\n",
      "  Average training loss: 1.33\n",
      "  Training epcoh took: 0:00:25\n",
      "\n",
      "Running Validation...\n",
      "  Accuracy: 0.52\n",
      "  Validation Loss: 1.56\n",
      "  Validation took: 0:00:01\n",
      "\n",
      "======== Epoch 4 / 5 ========\n",
      "Training...\n",
      "\n",
      "  Average training loss: 1.15\n",
      "  Training epcoh took: 0:00:25\n",
      "\n",
      "Running Validation...\n",
      "  Accuracy: 0.53\n",
      "  Validation Loss: 1.54\n",
      "  Validation took: 0:00:02\n",
      "\n",
      "======== Epoch 5 / 5 ========\n",
      "Training...\n",
      "\n",
      "  Average training loss: 1.01\n",
      "  Training epcoh took: 0:00:25\n",
      "\n",
      "Running Validation...\n",
      "  Accuracy: 0.53\n",
      "  Validation Loss: 1.55\n",
      "  Validation took: 0:00:02\n",
      "\n",
      "Training complete!\n"
     ]
    }
   ],
   "source": [
    "epit_mod_beta.fit(train_dataset, val_dataset, epochs=5)"
   ]
  },
  {
   "cell_type": "code",
   "execution_count": 58,
   "id": "7b4a39ed-bc63-48d4-a1db-a84311a52885",
   "metadata": {},
   "outputs": [
    {
     "data": {
      "image/png": "[encoded data removed]",
      "text/plain": [
       "<Figure size 1200x600 with 1 Axes>"
      ]
     },
     "metadata": {},
     "output_type": "display_data"
    }
   ],
   "source": [
    "epit_mod_beta.draw_stats_plot()"
   ]
  },
  {
   "cell_type": "code",
   "execution_count": 59,
   "id": "97fd8f9d-23a4-42ec-b8dc-cfe06928bdc0",
   "metadata": {},
   "outputs": [
    {
     "data": {
      "text/html": [
       "<div>\n",
       "<style scoped>\n",
       "    .dataframe tbody tr th:only-of-type {\n",
       "        vertical-align: middle;\n",
       "    }\n",
       "\n",
       "    .dataframe tbody tr th {\n",
       "        vertical-align: top;\n",
       "    }\n",
       "\n",
       "    .dataframe thead th {\n",
       "        text-align: right;\n",
       "    }\n",
       "</style>\n",
       "<table border=\"1\" class=\"dataframe\">\n",
       "  <thead>\n",
       "    <tr style=\"text-align: right;\">\n",
       "      <th></th>\n",
       "      <th>Training Loss</th>\n",
       "      <th>Valid. Loss</th>\n",
       "      <th>Valid. Accur.</th>\n",
       "      <th>Training Time</th>\n",
       "      <th>Validation Time</th>\n",
       "    </tr>\n",
       "    <tr>\n",
       "      <th>epoch</th>\n",
       "      <th></th>\n",
       "      <th></th>\n",
       "      <th></th>\n",
       "      <th></th>\n",
       "      <th></th>\n",
       "    </tr>\n",
       "  </thead>\n",
       "  <tbody>\n",
       "    <tr>\n",
       "      <th>1</th>\n",
       "      <td>1.892970</td>\n",
       "      <td>1.671288</td>\n",
       "      <td>0.459183</td>\n",
       "      <td>0:00:25</td>\n",
       "      <td>0:00:02</td>\n",
       "    </tr>\n",
       "    <tr>\n",
       "      <th>2</th>\n",
       "      <td>1.521249</td>\n",
       "      <td>1.575555</td>\n",
       "      <td>0.495948</td>\n",
       "      <td>0:00:25</td>\n",
       "      <td>0:00:02</td>\n",
       "    </tr>\n",
       "    <tr>\n",
       "      <th>3</th>\n",
       "      <td>1.328417</td>\n",
       "      <td>1.557406</td>\n",
       "      <td>0.519845</td>\n",
       "      <td>0:00:25</td>\n",
       "      <td>0:00:01</td>\n",
       "    </tr>\n",
       "    <tr>\n",
       "      <th>4</th>\n",
       "      <td>1.150500</td>\n",
       "      <td>1.535316</td>\n",
       "      <td>0.527448</td>\n",
       "      <td>0:00:25</td>\n",
       "      <td>0:00:02</td>\n",
       "    </tr>\n",
       "    <tr>\n",
       "      <th>5</th>\n",
       "      <td>1.014434</td>\n",
       "      <td>1.552415</td>\n",
       "      <td>0.527448</td>\n",
       "      <td>0:00:25</td>\n",
       "      <td>0:00:02</td>\n",
       "    </tr>\n",
       "  </tbody>\n",
       "</table>\n",
       "</div>"
      ],
      "text/plain": [
       "       Training Loss  Valid. Loss  Valid. Accur. Training Time Validation Time\n",
       "epoch                                                                         \n",
       "1           1.892970     1.671288       0.459183       0:00:25         0:00:02\n",
       "2           1.521249     1.575555       0.495948       0:00:25         0:00:02\n",
       "3           1.328417     1.557406       0.519845       0:00:25         0:00:01\n",
       "4           1.150500     1.535316       0.527448       0:00:25         0:00:02\n",
       "5           1.014434     1.552415       0.527448       0:00:25         0:00:02"
      ]
     },
     "execution_count": 59,
     "metadata": {},
     "output_type": "execute_result"
    }
   ],
   "source": [
    "epit_mod_beta.get_stats()"
   ]
  },
  {
   "cell_type": "code",
   "execution_count": 63,
   "id": "ce47f7cc-b42a-4c1f-b9a4-893a45c7c4cc",
   "metadata": {},
   "outputs": [
    {
     "name": "stderr",
     "output_type": "stream",
     "text": [
      "Some weights of the model checkpoint at wukevin/tcr-bert-mlm-only were not used when initializing BertForSequenceClassification: ['cls.predictions.transform.LayerNorm.weight', 'cls.predictions.transform.dense.bias', 'cls.predictions.bias', 'cls.predictions.decoder.weight', 'cls.predictions.transform.LayerNorm.bias', 'cls.predictions.transform.dense.weight', 'cls.predictions.decoder.bias']\n",
      "- This IS expected if you are initializing BertForSequenceClassification from the checkpoint of a model trained on another task or with another architecture (e.g. initializing a BertForSequenceClassification model from a BertForPreTraining model).\n",
      "- This IS NOT expected if you are initializing BertForSequenceClassification from the checkpoint of a model that you expect to be exactly identical (initializing a BertForSequenceClassification model from a BertForSequenceClassification model).\n",
      "Some weights of BertForSequenceClassification were not initialized from the model checkpoint at wukevin/tcr-bert-mlm-only and are newly initialized: ['classifier.weight', 'bert.pooler.dense.weight', 'classifier.bias', 'bert.pooler.dense.bias']\n",
      "You should probably TRAIN this model on a down-stream task to be able to use it for predictions and inference.\n"
     ]
    },
    {
     "data": {
      "text/plain": [
       "CustomModel(\n",
       "  (model): BertForSequenceClassification(\n",
       "    (bert): BertModel(\n",
       "      (embeddings): BertEmbeddings(\n",
       "        (word_embeddings): Embedding(26, 768, padding_idx=21)\n",
       "        (position_embeddings): Embedding(64, 768)\n",
       "        (token_type_embeddings): Embedding(2, 768)\n",
       "        (LayerNorm): LayerNorm((768,), eps=1e-12, elementwise_affine=True)\n",
       "        (dropout): Dropout(p=0.1, inplace=False)\n",
       "      )\n",
       "      (encoder): BertEncoder(\n",
       "        (layer): ModuleList(\n",
       "          (0-11): 12 x BertLayer(\n",
       "            (attention): BertAttention(\n",
       "              (self): BertSelfAttention(\n",
       "                (query): Linear(in_features=768, out_features=768, bias=True)\n",
       "                (key): Linear(in_features=768, out_features=768, bias=True)\n",
       "                (value): Linear(in_features=768, out_features=768, bias=True)\n",
       "                (dropout): Dropout(p=0.1, inplace=False)\n",
       "              )\n",
       "              (output): BertSelfOutput(\n",
       "                (dense): Linear(in_features=768, out_features=768, bias=True)\n",
       "                (LayerNorm): LayerNorm((768,), eps=1e-12, elementwise_affine=True)\n",
       "                (dropout): Dropout(p=0.1, inplace=False)\n",
       "              )\n",
       "            )\n",
       "            (intermediate): BertIntermediate(\n",
       "              (dense): Linear(in_features=768, out_features=1536, bias=True)\n",
       "              (intermediate_act_fn): GELUActivation()\n",
       "            )\n",
       "            (output): BertOutput(\n",
       "              (dense): Linear(in_features=1536, out_features=768, bias=True)\n",
       "              (LayerNorm): LayerNorm((768,), eps=1e-12, elementwise_affine=True)\n",
       "              (dropout): Dropout(p=0.1, inplace=False)\n",
       "            )\n",
       "          )\n",
       "        )\n",
       "      )\n",
       "      (pooler): BertPooler(\n",
       "        (dense): Linear(in_features=768, out_features=768, bias=True)\n",
       "        (activation): Tanh()\n",
       "      )\n",
       "    )\n",
       "    (dropout): Dropout(p=0.1, inplace=False)\n",
       "    (classifier): Linear(in_features=768, out_features=16, bias=True)\n",
       "  )\n",
       ")"
      ]
     },
     "execution_count": 63,
     "metadata": {},
     "output_type": "execute_result"
    }
   ],
   "source": [
    "epit_mod_beta = load_model_('models_ft/beta_tcr_bert_epit_model.pth', mod_type='TCR-bert', num_labels=N_LABELS_beta)\n",
    "epit_mod_beta.maximun_len = 40\n",
    "epit_mod_beta.to(device)"
   ]
  },
  {
   "cell_type": "code",
   "execution_count": 65,
   "id": "de34430a-1c04-494f-b9ac-9b6adc285faf",
   "metadata": {},
   "outputs": [
    {
     "data": {
      "text/html": [
       "<div>\n",
       "<style scoped>\n",
       "    .dataframe tbody tr th:only-of-type {\n",
       "        vertical-align: middle;\n",
       "    }\n",
       "\n",
       "    .dataframe tbody tr th {\n",
       "        vertical-align: top;\n",
       "    }\n",
       "\n",
       "    .dataframe thead th {\n",
       "        text-align: right;\n",
       "    }\n",
       "</style>\n",
       "<table border=\"1\" class=\"dataframe\">\n",
       "  <thead>\n",
       "    <tr style=\"text-align: right;\">\n",
       "      <th></th>\n",
       "      <th>cdr3.beta</th>\n",
       "    </tr>\n",
       "  </thead>\n",
       "  <tbody>\n",
       "    <tr>\n",
       "      <th>20741</th>\n",
       "      <td>C A S S T D Y V E Q Y F</td>\n",
       "    </tr>\n",
       "    <tr>\n",
       "      <th>9735</th>\n",
       "      <td>C A S S L D T D T Q Y F</td>\n",
       "    </tr>\n",
       "    <tr>\n",
       "      <th>9067</th>\n",
       "      <td>C A S S L L V S G N E Q F F</td>\n",
       "    </tr>\n",
       "    <tr>\n",
       "      <th>11534</th>\n",
       "      <td>C A S S E G A G G F G Q P Q H F</td>\n",
       "    </tr>\n",
       "    <tr>\n",
       "      <th>20000</th>\n",
       "      <td>C A S R G R Q G R W S S G A N V L T F</td>\n",
       "    </tr>\n",
       "    <tr>\n",
       "      <th>...</th>\n",
       "      <td>...</td>\n",
       "    </tr>\n",
       "    <tr>\n",
       "      <th>19908</th>\n",
       "      <td>C A S S P G Q F S H E Q Y F</td>\n",
       "    </tr>\n",
       "    <tr>\n",
       "      <th>17210</th>\n",
       "      <td>C A S S P G S T E A F F</td>\n",
       "    </tr>\n",
       "    <tr>\n",
       "      <th>17250</th>\n",
       "      <td>C A S S T P G Q G A G E Q F F</td>\n",
       "    </tr>\n",
       "    <tr>\n",
       "      <th>23406</th>\n",
       "      <td>C A S S L G Q R S T E A F F</td>\n",
       "    </tr>\n",
       "    <tr>\n",
       "      <th>21879</th>\n",
       "      <td>C A S S L S R S S N Q P Q Y F</td>\n",
       "    </tr>\n",
       "  </tbody>\n",
       "</table>\n",
       "<p>1916 rows × 1 columns</p>\n",
       "</div>"
      ],
      "text/plain": [
       "                                   cdr3.beta\n",
       "20741                C A S S T D Y V E Q Y F\n",
       "9735                 C A S S L D T D T Q Y F\n",
       "9067             C A S S L L V S G N E Q F F\n",
       "11534        C A S S E G A G G F G Q P Q H F\n",
       "20000  C A S R G R Q G R W S S G A N V L T F\n",
       "...                                      ...\n",
       "19908            C A S S P G Q F S H E Q Y F\n",
       "17210                C A S S P G S T E A F F\n",
       "17250          C A S S T P G Q G A G E Q F F\n",
       "23406            C A S S L G Q R S T E A F F\n",
       "21879          C A S S L S R S S N Q P Q Y F\n",
       "\n",
       "[1916 rows x 1 columns]"
      ]
     },
     "execution_count": 65,
     "metadata": {},
     "output_type": "execute_result"
    }
   ],
   "source": [
    "beta_test"
   ]
  },
  {
   "cell_type": "code",
   "execution_count": 67,
   "id": "af07480d-fd08-4b72-bdcb-c99aa8567405",
   "metadata": {},
   "outputs": [
    {
     "name": "stderr",
     "output_type": "stream",
     "text": [
      "/home/akabalina/.conda/envs/ft/lib/python3.9/site-packages/transformers/tokenization_utils_base.py:2339: FutureWarning: The `pad_to_max_length` argument is deprecated and will be removed in a future version, use `padding=True` or `padding='longest'` to pad to the longest sequence in the batch, or use `padding='max_length'` to pad to a max length. In this case, you can give a specific length with `max_length` (e.g. `max_length=45`) or leave max_length to None to pad to the maximal input size of the model (e.g. 512 for Bert).\n",
      "  warnings.warn(\n"
     ]
    },
    {
     "name": "stdout",
     "output_type": "stream",
     "text": [
      "Total f1_score: 0.51961\n"
     ]
    }
   ],
   "source": [
    "pred_labels = epit_mod_beta.predict(beta_test['cdr3.beta'])\n",
    "f1_sc = f1_score(ans, pred_labels, average='weighted')\n",
    "print('Total f1_score: %.5f' % f1_sc)"
   ]
  },
  {
   "cell_type": "code",
   "execution_count": 69,
   "id": "e8461129-afb9-4203-993a-2763437b3092",
   "metadata": {},
   "outputs": [
    {
     "data": {
      "image/png": "[encoded data removed]",
      "text/plain": [
       "<Figure size 1100x900 with 2 Axes>"
      ]
     },
     "metadata": {},
     "output_type": "display_data"
    }
   ],
   "source": [
    "notm_matrix_epit = draw_heatmap(pred_labels, ans.values, le_beta, n_cl=N_LABELS_beta, label='Матрица ошибок для B эпитопов')\n"
   ]
  },
  {
   "cell_type": "code",
   "execution_count": 62,
   "id": "9189ec38-2d4b-49c4-845e-b9f5872826f5",
   "metadata": {},
   "outputs": [],
   "source": [
    "save_model(epit_mod_beta, 'models_ft/beta_tcr_bert_epit_model.pth')"
   ]
  },
  {
   "cell_type": "code",
   "execution_count": null,
   "id": "12d5e86e-e9a8-434e-bfa1-c551972d750c",
   "metadata": {},
   "outputs": [],
   "source": []
  },
  {
   "cell_type": "code",
   "execution_count": null,
   "id": "dffadeb4-0455-45e3-a446-e85d7ee788af",
   "metadata": {},
   "outputs": [],
   "source": []
  },
  {
   "cell_type": "code",
   "execution_count": null,
   "id": "3ce0ddbc-2154-4fc0-b7cd-e2b6c8e23a0f",
   "metadata": {},
   "outputs": [],
   "source": []
  },
  {
   "cell_type": "code",
   "execution_count": null,
   "id": "64c6aa3e-aa4e-4990-95ab-1488e0ceb55b",
   "metadata": {},
   "outputs": [],
   "source": []
  },
  {
   "cell_type": "code",
   "execution_count": null,
   "id": "664f9570-090e-4a6a-9f30-c592d7bfb49c",
   "metadata": {},
   "outputs": [],
   "source": []
  },
  {
   "cell_type": "code",
   "execution_count": null,
   "id": "946bef43-d3e5-4779-b4ce-0fb533d758c0",
   "metadata": {},
   "outputs": [],
   "source": []
  }
 ],
 "metadata": {
  "kernelspec": {
   "display_name": "Python [conda env:.conda-ft]",
   "language": "python",
   "name": "conda-env-.conda-ft-py"
  },
  "language_info": {
   "codemirror_mode": {
    "name": "ipython",
    "version": 3
   },
   "file_extension": ".py",
   "mimetype": "text/x-python",
   "name": "python",
   "nbconvert_exporter": "python",
   "pygments_lexer": "ipython3",
   "version": "3.9.18"
  }
 },
 "nbformat": 4,
 "nbformat_minor": 5
}
