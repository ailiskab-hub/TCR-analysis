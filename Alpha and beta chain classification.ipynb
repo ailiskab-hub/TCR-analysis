{
 "cells": [
  {
   "cell_type": "code",
   "execution_count": 1,
   "id": "da20f389-60c2-46cc-9fea-9e538713eda4",
   "metadata": {},
   "outputs": [
    {
     "name": "stdout",
     "output_type": "stream",
     "text": [
      "[2025-05-20 02:13:24,864] [INFO] [real_accelerator.py:191:get_accelerator] Setting ds_accelerator to cuda (auto detect)\n",
      "There are 1 GPU(s) available.\n",
      "We will use the GPU: Tesla V100S-PCIE-32GB\n"
     ]
    }
   ],
   "source": [
    "import numpy as np\n",
    "import pandas as pd\n",
    "import matplotlib.pyplot as plt\n",
    "import seaborn as sns\n",
    "import re\n",
    "import time\n",
    "import datetime\n",
    "import random\n",
    "import torch\n",
    "from torch.utils.data import DataLoader\n",
    "\n",
    "from datasets import Dataset\n",
    "# from IPython.core.interactiveshell import InteractiveShell\n",
    "# InteractiveShell.ast_node_interactivity = \"all\"\n",
    "\n",
    "from sklearn.utils import resample\n",
    "\n",
    "from transformers import BertForSequenceClassification, BertConfig\n",
    "from transformers import T5EncoderModel, T5Tokenizer\n",
    "from sklearn.metrics import f1_score\n",
    "\n",
    "if torch.cuda.is_available():\n",
    "    device = torch.device(\"cuda\")\n",
    "    print('There are %d GPU(s) available.' % torch.cuda.device_count())\n",
    "    print('We will use the GPU:', torch.cuda.get_device_name(0))\n",
    "\n",
    "else:\n",
    "    print('No GPU available, using the CPU instead.')\n",
    "    device = torch.device(\"cpu\")\n",
    "    \n",
    "import warnings\n",
    "warnings.filterwarnings(action='ignore', message='Mean of empty slice')\n",
    "#pd.options.mode.chained_assignment = None\n",
    "    \n",
    "from transformers import BertTokenizer\n",
    "from tcrbert_mdf import CustomModel, train_per_protein, create_dataset\n",
    "\n",
    "\n"
   ]
  },
  {
   "cell_type": "code",
   "execution_count": 2,
   "id": "8be06475-df90-498b-9e46-6f67fc69fde1",
   "metadata": {},
   "outputs": [],
   "source": [
    "import os.path\n",
    "#os.chdir(\"./\")\n",
    "os.environ[\"MASTER_ADDR\"] = \"localhost\"\n",
    "os.environ[\"MASTER_PORT\"] = \"9994\"  # modify if RuntimeError: Address already in use\n",
    "os.environ[\"RANK\"] = \"0\"\n",
    "os.environ[\"LOCAL_RANK\"] = \"0\"\n",
    "os.environ[\"WORLD_SIZE\"] = \"1\""
   ]
  },
  {
   "cell_type": "code",
   "execution_count": 3,
   "id": "6d0bfa02-8cf5-4353-abdb-892af7fdd90d",
   "metadata": {},
   "outputs": [],
   "source": [
    "seed_val = 42\n",
    "random.seed(seed_val)\n",
    "np.random.seed(seed_val)\n",
    "torch.manual_seed(seed_val)\n",
    "torch.cuda.manual_seed_all(seed_val)"
   ]
  },
  {
   "cell_type": "code",
   "execution_count": 4,
   "id": "cf1f1ab3-855c-4f3a-858c-1af131dcac86",
   "metadata": {},
   "outputs": [],
   "source": [
    "def add_spaces(seq):\n",
    "     return ' '.join(list(seq))\n",
    "\n",
    "    \n",
    "def save_model(model,filepath):\n",
    "    # Create a dictionary to hold the non-frozen parameters\n",
    "    non_frozen_params = {}\n",
    "\n",
    "    # Iterate through all the model parameters\n",
    "    for param_name, param in model.named_parameters():\n",
    "        # If the parameter has requires_grad=True, add it to the dictionary\n",
    "        if param.requires_grad:\n",
    "            non_frozen_params[param_name] = param\n",
    "\n",
    "    # Save only the finetuned parameters \n",
    "    torch.save(non_frozen_params, filepath)\n",
    "\n",
    "    \n",
    "def load_model(filepath, mod_type='Prottrans', num_labels=1, mixed = False):\n",
    "    if mod_type=='Prottrans':\n",
    "        my_model, tokenizer = PT5_classification_model(num_labels=num_labels, half_precision=mixed)\n",
    "        \n",
    "    elif mod_type=='TCR-bert':\n",
    "        # tokenizer = BertTokenizer.from_pretrained(\"wukevin/tcr-bert\", do_lower_case=False );\n",
    "        # model = BertForSequenceClassification.from_pretrained(\"wukevin/tcr-bert\", num_labels = num_labels);\n",
    "        my_model = CustomModel()\n",
    "        \n",
    "    \n",
    "    # Load the non-frozen parameters from the saved file\n",
    "    non_frozen_params = torch.load(filepath)\n",
    "\n",
    "    # Assign the non-frozen parameters to the corresponding parameters of the model\n",
    "    for param_name, param in my_model.named_parameters():\n",
    "        if param_name in non_frozen_params:\n",
    "            param.data = non_frozen_params[param_name].data\n",
    "\n",
    "    return my_model if mod_type=='TCR-bert' else (tokenizer, model)"
   ]
  },
  {
   "cell_type": "markdown",
   "id": "c322b27b-1db1-44b1-8d98-19cb53c8d08a",
   "metadata": {},
   "source": [
    "Данные по альфа и бета цепи из реальных доноров"
   ]
  },
  {
   "cell_type": "code",
   "execution_count": 5,
   "id": "e836eecb-1a79-439f-9cb1-6049eae7ecbf",
   "metadata": {},
   "outputs": [],
   "source": [
    "alpha_data = pd.read_csv('data/selected_cdr_alpha_440002200808_S159_L002.csv', index_col=0)\n",
    "beta_data = pd.read_csv('data/selected_cdr_beta_440001980101_S87_L001.csv', index_col=0)"
   ]
  },
  {
   "cell_type": "code",
   "execution_count": 6,
   "id": "9100ddc0-8ec4-409d-bb1e-7b925da953fe",
   "metadata": {},
   "outputs": [
    {
     "name": "stdout",
     "output_type": "stream",
     "text": [
      "Dataset of alpha chain size (23065, 4)\n",
      "Dataset of beta chain size (34345, 5)\n"
     ]
    }
   ],
   "source": [
    "alpha_data['type'] = 0\n",
    "alpha_data.head()\n",
    "print(f'Dataset of alpha chain size {alpha_data.shape}')\n",
    "\n",
    "beta_data['type'] = 1\n",
    "beta_data.head()\n",
    "print(f'Dataset of beta chain size {beta_data.shape}')"
   ]
  },
  {
   "cell_type": "code",
   "execution_count": 7,
   "id": "13119276-903e-415f-a286-45f92dee0598",
   "metadata": {},
   "outputs": [],
   "source": [
    "compl_df = pd.concat([alpha_data[['cdr3aa', 'type']], beta_data[['cdr3aa', 'type']]], ignore_index=True)"
   ]
  },
  {
   "cell_type": "code",
   "execution_count": 8,
   "id": "b776378e-6bc2-40cb-a143-cba647996750",
   "metadata": {},
   "outputs": [
    {
     "data": {
      "text/html": [
       "<div>\n",
       "<style scoped>\n",
       "    .dataframe tbody tr th:only-of-type {\n",
       "        vertical-align: middle;\n",
       "    }\n",
       "\n",
       "    .dataframe tbody tr th {\n",
       "        vertical-align: top;\n",
       "    }\n",
       "\n",
       "    .dataframe thead th {\n",
       "        text-align: right;\n",
       "    }\n",
       "</style>\n",
       "<table border=\"1\" class=\"dataframe\">\n",
       "  <thead>\n",
       "    <tr style=\"text-align: right;\">\n",
       "      <th></th>\n",
       "      <th>cdr3aa</th>\n",
       "      <th>type</th>\n",
       "    </tr>\n",
       "  </thead>\n",
       "  <tbody>\n",
       "    <tr>\n",
       "      <th>0</th>\n",
       "      <td>CAETRGAGNMLTF</td>\n",
       "      <td>0</td>\n",
       "    </tr>\n",
       "    <tr>\n",
       "      <th>1</th>\n",
       "      <td>CAGNTGGFKTIF</td>\n",
       "      <td>0</td>\n",
       "    </tr>\n",
       "    <tr>\n",
       "      <th>2</th>\n",
       "      <td>CAVEDGQKLLF</td>\n",
       "      <td>0</td>\n",
       "    </tr>\n",
       "    <tr>\n",
       "      <th>3</th>\n",
       "      <td>CAVSEPFGNEKLTF</td>\n",
       "      <td>0</td>\n",
       "    </tr>\n",
       "    <tr>\n",
       "      <th>4</th>\n",
       "      <td>CATDPNTGNQFYF</td>\n",
       "      <td>0</td>\n",
       "    </tr>\n",
       "    <tr>\n",
       "      <th>...</th>\n",
       "      <td>...</td>\n",
       "      <td>...</td>\n",
       "    </tr>\n",
       "    <tr>\n",
       "      <th>57405</th>\n",
       "      <td>CASSLRPQHF</td>\n",
       "      <td>1</td>\n",
       "    </tr>\n",
       "    <tr>\n",
       "      <th>57406</th>\n",
       "      <td>CASSDVGYTF</td>\n",
       "      <td>1</td>\n",
       "    </tr>\n",
       "    <tr>\n",
       "      <th>57407</th>\n",
       "      <td>CASRGVGYTF</td>\n",
       "      <td>1</td>\n",
       "    </tr>\n",
       "    <tr>\n",
       "      <th>57408</th>\n",
       "      <td>CSASFVTQYF</td>\n",
       "      <td>1</td>\n",
       "    </tr>\n",
       "    <tr>\n",
       "      <th>57409</th>\n",
       "      <td>CSARGEQFF</td>\n",
       "      <td>1</td>\n",
       "    </tr>\n",
       "  </tbody>\n",
       "</table>\n",
       "<p>57410 rows × 2 columns</p>\n",
       "</div>"
      ],
      "text/plain": [
       "               cdr3aa  type\n",
       "0       CAETRGAGNMLTF     0\n",
       "1        CAGNTGGFKTIF     0\n",
       "2         CAVEDGQKLLF     0\n",
       "3      CAVSEPFGNEKLTF     0\n",
       "4       CATDPNTGNQFYF     0\n",
       "...               ...   ...\n",
       "57405      CASSLRPQHF     1\n",
       "57406      CASSDVGYTF     1\n",
       "57407      CASRGVGYTF     1\n",
       "57408      CSASFVTQYF     1\n",
       "57409       CSARGEQFF     1\n",
       "\n",
       "[57410 rows x 2 columns]"
      ]
     },
     "execution_count": 8,
     "metadata": {},
     "output_type": "execute_result"
    }
   ],
   "source": [
    "compl_df"
   ]
  },
  {
   "cell_type": "code",
   "execution_count": 9,
   "id": "19833ce4-dd37-450b-9089-3aa6324fa286",
   "metadata": {},
   "outputs": [],
   "source": [
    "compl_df['cdr3aa'] = compl_df['cdr3aa'].map(add_spaces)"
   ]
  },
  {
   "cell_type": "code",
   "execution_count": 10,
   "id": "2c0d457f-c673-4863-be6b-b05143b90801",
   "metadata": {},
   "outputs": [
    {
     "data": {
      "text/plain": [
       "<BarContainer object of 2 artists>"
      ]
     },
     "execution_count": 10,
     "metadata": {},
     "output_type": "execute_result"
    },
    {
     "data": {
      "image/png": "[encoded data removed]",
      "text/plain": [
       "<Figure size 640x480 with 1 Axes>"
      ]
     },
     "metadata": {},
     "output_type": "display_data"
    }
   ],
   "source": [
    "plt.bar(['TRA', 'TRB'], compl_df['type'].value_counts())"
   ]
  },
  {
   "cell_type": "markdown",
   "id": "a8638570-0040-4cac-b089-264182e6f343",
   "metadata": {},
   "source": [
    "There is slight imbalance in the number of objects in the TRA and TRB classes, but probably it won't affect the model quality, because all the classes have enougth observations "
   ]
  },
  {
   "cell_type": "code",
   "execution_count": 11,
   "id": "0a381da1-9ec9-4f79-a6ce-e90572243bde",
   "metadata": {},
   "outputs": [
    {
     "data": {
      "text/html": [
       "<div>\n",
       "<style scoped>\n",
       "    .dataframe tbody tr th:only-of-type {\n",
       "        vertical-align: middle;\n",
       "    }\n",
       "\n",
       "    .dataframe tbody tr th {\n",
       "        vertical-align: top;\n",
       "    }\n",
       "\n",
       "    .dataframe thead th {\n",
       "        text-align: right;\n",
       "    }\n",
       "</style>\n",
       "<table border=\"1\" class=\"dataframe\">\n",
       "  <thead>\n",
       "    <tr style=\"text-align: right;\">\n",
       "      <th></th>\n",
       "      <th>cdr3aa</th>\n",
       "      <th>type</th>\n",
       "    </tr>\n",
       "  </thead>\n",
       "  <tbody>\n",
       "    <tr>\n",
       "      <th>0</th>\n",
       "      <td>C A E T R G A G N M L T F</td>\n",
       "      <td>0</td>\n",
       "    </tr>\n",
       "    <tr>\n",
       "      <th>1</th>\n",
       "      <td>C A V E D G Q K L L F</td>\n",
       "      <td>0</td>\n",
       "    </tr>\n",
       "    <tr>\n",
       "      <th>2</th>\n",
       "      <td>C A V S E P F G N E K L T F</td>\n",
       "      <td>0</td>\n",
       "    </tr>\n",
       "    <tr>\n",
       "      <th>3</th>\n",
       "      <td>C A F L N N A G N M L T F</td>\n",
       "      <td>0</td>\n",
       "    </tr>\n",
       "    <tr>\n",
       "      <th>4</th>\n",
       "      <td>C A V R D L W G S G G G A D G L T F</td>\n",
       "      <td>0</td>\n",
       "    </tr>\n",
       "  </tbody>\n",
       "</table>\n",
       "</div>"
      ],
      "text/plain": [
       "                                cdr3aa  type\n",
       "0            C A E T R G A G N M L T F     0\n",
       "1                C A V E D G Q K L L F     0\n",
       "2          C A V S E P F G N E K L T F     0\n",
       "3            C A F L N N A G N M L T F     0\n",
       "4  C A V R D L W G S G G G A D G L T F     0"
      ]
     },
     "execution_count": 11,
     "metadata": {},
     "output_type": "execute_result"
    }
   ],
   "source": [
    "test_dataset = compl_df.sample(frac=0.30)\n",
    "compl_df = compl_df.drop(test_dataset.index)\n",
    "compl_df = compl_df.reset_index(drop=True)\n",
    "compl_df.head()"
   ]
  },
  {
   "cell_type": "code",
   "execution_count": 12,
   "id": "4df3258a-524d-42ec-ab77-2e348c6ec272",
   "metadata": {},
   "outputs": [],
   "source": [
    "test_dataset = test_dataset.reset_index(drop=True)\n",
    "ans = test_dataset['type']\n",
    "\n",
    "test_dataset = test_dataset.drop(columns=['type'])\n",
    "\n"
   ]
  },
  {
   "cell_type": "code",
   "execution_count": 13,
   "id": "8a357298-0131-40ef-b8ae-4535bb5637c4",
   "metadata": {},
   "outputs": [],
   "source": [
    "test_dataset.to_csv('data/ab_test_dataset.csv', index=False)\n",
    "ans.to_csv('data/ab_ans.csv', index=False)"
   ]
  },
  {
   "cell_type": "markdown",
   "id": "12392954-e1c5-4ff0-ae13-0a9a4a1997cb",
   "metadata": {},
   "source": [
    "# TCR transformer model"
   ]
  },
  {
   "cell_type": "code",
   "execution_count": 14,
   "id": "c9ed43ee-de10-46eb-b661-1521b4083e64",
   "metadata": {},
   "outputs": [],
   "source": [
    "tokeniz = BertTokenizer.from_pretrained(\"wukevin/tcr-bert\", do_lower_case=False )"
   ]
  },
  {
   "cell_type": "code",
   "execution_count": 15,
   "id": "0e125113-b2bd-44ab-bbad-43835ded435c",
   "metadata": {},
   "outputs": [
    {
     "name": "stdout",
     "output_type": "stream",
     "text": [
      " Original:  CAETRGAGNMLTF\n",
      "Tokenized:  ['C', 'A', 'E', 'T', 'R', 'G', 'A', 'G', 'N', 'M', 'L', 'T', 'F']\n",
      "Token IDs:  [9, 13, 4, 6, 0, 11, 13, 11, 7, 17, 16, 6, 18]\n"
     ]
    }
   ],
   "source": [
    "print(' Original: ', alpha_data.iloc[0, 0])\n",
    "print('Tokenized: ', tokeniz.tokenize(compl_df.iloc[0, 0]))\n",
    "print('Token IDs: ', tokeniz.convert_tokens_to_ids(tokeniz.tokenize(compl_df.iloc[0, 0])))"
   ]
  },
  {
   "cell_type": "code",
   "execution_count": 16,
   "id": "1714df53-ddb6-4e94-b453-99a0ae134b7a",
   "metadata": {},
   "outputs": [
    {
     "name": "stdout",
     "output_type": "stream",
     "text": [
      "Max seq length:  22\n"
     ]
    }
   ],
   "source": [
    "max_len = 0\n",
    "for seq in compl_df['cdr3aa']:\n",
    "    input_ids = tokeniz.encode(seq, add_special_tokens=True)\n",
    "    max_len = max(max_len, len(input_ids))\n",
    "print('Max seq length: ', max_len)"
   ]
  },
  {
   "cell_type": "code",
   "execution_count": 17,
   "id": "de8ed1d2-1f2f-4e08-9a71-2aa9649aa2b4",
   "metadata": {},
   "outputs": [],
   "source": [
    "from transformers import BertForSequenceClassification, AdamW, BertConfig"
   ]
  },
  {
   "cell_type": "code",
   "execution_count": 18,
   "id": "11d4b9a5-08a2-45df-a03b-abc1acaae817",
   "metadata": {},
   "outputs": [
    {
     "name": "stderr",
     "output_type": "stream",
     "text": [
      "Some weights of the model checkpoint at wukevin/tcr-bert-mlm-only were not used when initializing BertForSequenceClassification: ['cls.predictions.transform.dense.weight', 'cls.predictions.transform.dense.bias', 'cls.predictions.bias', 'cls.predictions.decoder.weight', 'cls.predictions.transform.LayerNorm.weight', 'cls.predictions.decoder.bias', 'cls.predictions.transform.LayerNorm.bias']\n",
      "- This IS expected if you are initializing BertForSequenceClassification from the checkpoint of a model trained on another task or with another architecture (e.g. initializing a BertForSequenceClassification model from a BertForPreTraining model).\n",
      "- This IS NOT expected if you are initializing BertForSequenceClassification from the checkpoint of a model that you expect to be exactly identical (initializing a BertForSequenceClassification model from a BertForSequenceClassification model).\n",
      "Some weights of BertForSequenceClassification were not initialized from the model checkpoint at wukevin/tcr-bert-mlm-only and are newly initialized: ['classifier.bias', 'bert.pooler.dense.bias', 'bert.pooler.dense.weight', 'classifier.weight']\n",
      "You should probably TRAIN this model on a down-stream task to be able to use it for predictions and inference.\n"
     ]
    },
    {
     "data": {
      "text/plain": [
       "CustomModel(\n",
       "  (model): BertForSequenceClassification(\n",
       "    (bert): BertModel(\n",
       "      (embeddings): BertEmbeddings(\n",
       "        (word_embeddings): Embedding(26, 768, padding_idx=21)\n",
       "        (position_embeddings): Embedding(64, 768)\n",
       "        (token_type_embeddings): Embedding(2, 768)\n",
       "        (LayerNorm): LayerNorm((768,), eps=1e-12, elementwise_affine=True)\n",
       "        (dropout): Dropout(p=0.1, inplace=False)\n",
       "      )\n",
       "      (encoder): BertEncoder(\n",
       "        (layer): ModuleList(\n",
       "          (0-11): 12 x BertLayer(\n",
       "            (attention): BertAttention(\n",
       "              (self): BertSelfAttention(\n",
       "                (query): Linear(in_features=768, out_features=768, bias=True)\n",
       "                (key): Linear(in_features=768, out_features=768, bias=True)\n",
       "                (value): Linear(in_features=768, out_features=768, bias=True)\n",
       "                (dropout): Dropout(p=0.1, inplace=False)\n",
       "              )\n",
       "              (output): BertSelfOutput(\n",
       "                (dense): Linear(in_features=768, out_features=768, bias=True)\n",
       "                (LayerNorm): LayerNorm((768,), eps=1e-12, elementwise_affine=True)\n",
       "                (dropout): Dropout(p=0.1, inplace=False)\n",
       "              )\n",
       "            )\n",
       "            (intermediate): BertIntermediate(\n",
       "              (dense): Linear(in_features=768, out_features=1536, bias=True)\n",
       "              (intermediate_act_fn): GELUActivation()\n",
       "            )\n",
       "            (output): BertOutput(\n",
       "              (dense): Linear(in_features=1536, out_features=768, bias=True)\n",
       "              (LayerNorm): LayerNorm((768,), eps=1e-12, elementwise_affine=True)\n",
       "              (dropout): Dropout(p=0.1, inplace=False)\n",
       "            )\n",
       "          )\n",
       "        )\n",
       "      )\n",
       "      (pooler): BertPooler(\n",
       "        (dense): Linear(in_features=768, out_features=768, bias=True)\n",
       "        (activation): Tanh()\n",
       "      )\n",
       "    )\n",
       "    (dropout): Dropout(p=0.1, inplace=False)\n",
       "    (classifier): Linear(in_features=768, out_features=2, bias=True)\n",
       "  )\n",
       ")"
      ]
     },
     "execution_count": 18,
     "metadata": {},
     "output_type": "execute_result"
    }
   ],
   "source": [
    "my_model = CustomModel();\n",
    "my_model.cuda()"
   ]
  },
  {
   "cell_type": "code",
   "execution_count": 19,
   "id": "7522e6f5-40dc-4ba6-8f14-f28e2fb71681",
   "metadata": {},
   "outputs": [
    {
     "name": "stderr",
     "output_type": "stream",
     "text": [
      "/home/akabalina/.conda/envs/ft/lib/python3.9/site-packages/transformers/tokenization_utils_base.py:2339: FutureWarning: The `pad_to_max_length` argument is deprecated and will be removed in a future version, use `padding=True` or `padding='longest'` to pad to the longest sequence in the batch, or use `padding='max_length'` to pad to a max length. In this case, you can give a specific length with `max_length` (e.g. `max_length=45`) or leave max_length to None to pad to the maximal input size of the model (e.g. 512 for Bert).\n",
      "  warnings.warn(\n"
     ]
    },
    {
     "name": "stdout",
     "output_type": "stream",
     "text": [
      "Original:  C A E T R G A G N M L T F\n",
      "Token IDs: tensor([25,  9, 13,  4,  6,  0, 11, 13, 11,  7, 17, 16,  6, 18, 24, 21, 21, 21,\n",
      "        21, 21, 21, 21])\n"
     ]
    }
   ],
   "source": [
    "input_ids, attention_masks, labels = my_model.tokenize(compl_df['cdr3aa'], compl_df['type']);\n",
    "\n",
    "print('Original: ', compl_df.iloc[0, 0])\n",
    "print('Token IDs:', input_ids[0])"
   ]
  },
  {
   "cell_type": "code",
   "execution_count": 20,
   "id": "0e22fecb-7a03-42fe-bc62-73d616f427e1",
   "metadata": {},
   "outputs": [
    {
     "name": "stdout",
     "output_type": "stream",
     "text": [
      "32,149 training samples\n",
      "8,038 validation samples\n"
     ]
    }
   ],
   "source": [
    "train_dataset, val_dataset = my_model.split_data(input_ids, attention_masks, labels)"
   ]
  },
  {
   "cell_type": "code",
   "execution_count": 21,
   "id": "01b8bae7-5406-4e70-8621-881054bcbbc7",
   "metadata": {},
   "outputs": [
    {
     "name": "stdout",
     "output_type": "stream",
     "text": [
      "\n",
      "======== Epoch 1 / 4 ========\n",
      "Training...\n",
      "\n",
      "  Average training loss: 0.01\n",
      "  Training epcoh took: 0:01:33\n",
      "\n",
      "Running Validation...\n",
      "  Accuracy: 1.00\n",
      "  Validation Loss: 0.00\n",
      "  Validation took: 0:00:06\n",
      "\n",
      "======== Epoch 2 / 4 ========\n",
      "Training...\n",
      "\n",
      "  Average training loss: 0.00\n",
      "  Training epcoh took: 0:01:31\n",
      "\n",
      "Running Validation...\n",
      "  Accuracy: 1.00\n",
      "  Validation Loss: 0.00\n",
      "  Validation took: 0:00:05\n",
      "\n",
      "======== Epoch 3 / 4 ========\n",
      "Training...\n",
      "\n",
      "  Average training loss: 0.00\n",
      "  Training epcoh took: 0:01:31\n",
      "\n",
      "Running Validation...\n",
      "  Accuracy: 1.00\n",
      "  Validation Loss: 0.00\n",
      "  Validation took: 0:00:05\n",
      "\n",
      "======== Epoch 4 / 4 ========\n",
      "Training...\n",
      "\n",
      "  Average training loss: 0.00\n",
      "  Training epcoh took: 0:01:31\n",
      "\n",
      "Running Validation...\n",
      "  Accuracy: 1.00\n",
      "  Validation Loss: 0.00\n",
      "  Validation took: 0:00:05\n",
      "\n",
      "Training complete!\n"
     ]
    }
   ],
   "source": [
    "my_model.fit(train_dataset, val_dataset)"
   ]
  },
  {
   "cell_type": "code",
   "execution_count": 22,
   "id": "0da389a0-1c2e-481b-9249-0aa1aa75dfde",
   "metadata": {},
   "outputs": [
    {
     "data": {
      "text/html": [
       "<div>\n",
       "<style scoped>\n",
       "    .dataframe tbody tr th:only-of-type {\n",
       "        vertical-align: middle;\n",
       "    }\n",
       "\n",
       "    .dataframe tbody tr th {\n",
       "        vertical-align: top;\n",
       "    }\n",
       "\n",
       "    .dataframe thead th {\n",
       "        text-align: right;\n",
       "    }\n",
       "</style>\n",
       "<table border=\"1\" class=\"dataframe\">\n",
       "  <thead>\n",
       "    <tr style=\"text-align: right;\">\n",
       "      <th></th>\n",
       "      <th>Training Loss</th>\n",
       "      <th>Valid. Loss</th>\n",
       "      <th>Valid. Accur.</th>\n",
       "      <th>Training Time</th>\n",
       "      <th>Validation Time</th>\n",
       "    </tr>\n",
       "    <tr>\n",
       "      <th>epoch</th>\n",
       "      <th></th>\n",
       "      <th></th>\n",
       "      <th></th>\n",
       "      <th></th>\n",
       "      <th></th>\n",
       "    </tr>\n",
       "  </thead>\n",
       "  <tbody>\n",
       "    <tr>\n",
       "      <th>1</th>\n",
       "      <td>0.006778</td>\n",
       "      <td>0.000973</td>\n",
       "      <td>0.999876</td>\n",
       "      <td>0:01:33</td>\n",
       "      <td>0:00:06</td>\n",
       "    </tr>\n",
       "    <tr>\n",
       "      <th>2</th>\n",
       "      <td>0.001910</td>\n",
       "      <td>0.000013</td>\n",
       "      <td>1.000000</td>\n",
       "      <td>0:01:31</td>\n",
       "      <td>0:00:05</td>\n",
       "    </tr>\n",
       "    <tr>\n",
       "      <th>3</th>\n",
       "      <td>0.001228</td>\n",
       "      <td>0.000014</td>\n",
       "      <td>1.000000</td>\n",
       "      <td>0:01:31</td>\n",
       "      <td>0:00:05</td>\n",
       "    </tr>\n",
       "    <tr>\n",
       "      <th>4</th>\n",
       "      <td>0.000124</td>\n",
       "      <td>0.000023</td>\n",
       "      <td>1.000000</td>\n",
       "      <td>0:01:31</td>\n",
       "      <td>0:00:05</td>\n",
       "    </tr>\n",
       "  </tbody>\n",
       "</table>\n",
       "</div>"
      ],
      "text/plain": [
       "       Training Loss  Valid. Loss  Valid. Accur. Training Time Validation Time\n",
       "epoch                                                                         \n",
       "1           0.006778     0.000973       0.999876       0:01:33         0:00:06\n",
       "2           0.001910     0.000013       1.000000       0:01:31         0:00:05\n",
       "3           0.001228     0.000014       1.000000       0:01:31         0:00:05\n",
       "4           0.000124     0.000023       1.000000       0:01:31         0:00:05"
      ]
     },
     "execution_count": 22,
     "metadata": {},
     "output_type": "execute_result"
    }
   ],
   "source": [
    "my_model.get_stats()"
   ]
  },
  {
   "cell_type": "code",
   "execution_count": 23,
   "id": "cf7d6584-9033-45ba-9741-564e817c9124",
   "metadata": {},
   "outputs": [
    {
     "data": {
      "image/png": "[encoded data removed]",
      "text/plain": [
       "<Figure size 1200x600 with 1 Axes>"
      ]
     },
     "metadata": {},
     "output_type": "display_data"
    }
   ],
   "source": [
    "my_model.draw_stats_plot()"
   ]
  },
  {
   "cell_type": "code",
   "execution_count": 24,
   "id": "e862bcd6-bf90-4d7f-bef4-8a18a148d458",
   "metadata": {},
   "outputs": [
    {
     "name": "stderr",
     "output_type": "stream",
     "text": [
      "Truncation was not explicitly activated but `max_length` is provided a specific value, please use `truncation=True` to explicitly truncate examples to max length. Defaulting to 'longest_first' truncation strategy. If you encode pairs of sequences (GLUE-style) with the tokenizer you can select this strategy more precisely by providing a specific strategy to `truncation`.\n",
      "/home/akabalina/.conda/envs/ft/lib/python3.9/site-packages/transformers/tokenization_utils_base.py:2339: FutureWarning: The `pad_to_max_length` argument is deprecated and will be removed in a future version, use `padding=True` or `padding='longest'` to pad to the longest sequence in the batch, or use `padding='max_length'` to pad to a max length. In this case, you can give a specific length with `max_length` (e.g. `max_length=45`) or leave max_length to None to pad to the maximal input size of the model (e.g. 512 for Bert).\n",
      "  warnings.warn(\n"
     ]
    }
   ],
   "source": [
    "pred_labels = my_model.predict(test_dataset['cdr3aa'])"
   ]
  },
  {
   "cell_type": "code",
   "execution_count": 25,
   "id": "df5c877b-3560-463e-bd85-f40df60fe3f5",
   "metadata": {},
   "outputs": [
    {
     "name": "stdout",
     "output_type": "stream",
     "text": [
      "Total f1_score: 0.99981\n"
     ]
    }
   ],
   "source": [
    "f1_sc = f1_score(ans, pred_labels)\n",
    "print('Total f1_score: %.5f' % f1_sc)"
   ]
  },
  {
   "cell_type": "code",
   "execution_count": 26,
   "id": "d1adb70d-3635-4523-b6ac-ffa51b0fd8a9",
   "metadata": {},
   "outputs": [],
   "source": [
    "# save_model(my_model,\"models/TCR_bert_ab.pth\")\n",
    "my_model_reload = load_model(\"models/TCR_bert_ab.pth\", mod_type='TCR-bert', num_labels=2)"
   ]
  },
  {
   "cell_type": "code",
   "execution_count": 28,
   "id": "57256518-d23b-436b-96c3-d24459ff352b",
   "metadata": {},
   "outputs": [
    {
     "name": "stdout",
     "output_type": "stream",
     "text": [
      "Models have identical weights\n"
     ]
    }
   ],
   "source": [
    "# Put both models to the same device\n",
    "model=my_model.to(\"cpu\")\n",
    "model_reload=my_model_reload.to(\"cpu\")\n",
    "\n",
    "# Iterate through the parameters of the two models and compare the data\n",
    "for param1, param2 in zip(model.parameters(), model_reload.parameters()):\n",
    "    if not torch.equal(param1.data, param2.data):\n",
    "        print(\"Models have different weights\")\n",
    "        break\n",
    "else:\n",
    "    print(\"Models have identical weights\")"
   ]
  },
  {
   "cell_type": "code",
   "execution_count": 18,
   "id": "f1734726-275e-4b64-ba1a-3d7791a88809",
   "metadata": {},
   "outputs": [],
   "source": [
    "my_model_reload.maximun_len = 25"
   ]
  },
  {
   "cell_type": "code",
   "execution_count": 19,
   "id": "3ba593d9-7f9a-4c7e-9019-8a7d8f1a8889",
   "metadata": {},
   "outputs": [
    {
     "name": "stderr",
     "output_type": "stream",
     "text": [
      "Truncation was not explicitly activated but `max_length` is provided a specific value, please use `truncation=True` to explicitly truncate examples to max length. Defaulting to 'longest_first' truncation strategy. If you encode pairs of sequences (GLUE-style) with the tokenizer you can select this strategy more precisely by providing a specific strategy to `truncation`.\n",
      "/home/akabalina/.conda/envs/ft/lib/python3.9/site-packages/transformers/tokenization_utils_base.py:2339: FutureWarning: The `pad_to_max_length` argument is deprecated and will be removed in a future version, use `padding=True` or `padding='longest'` to pad to the longest sequence in the batch, or use `padding='max_length'` to pad to a max length. In this case, you can give a specific length with `max_length` (e.g. `max_length=45`) or leave max_length to None to pad to the maximal input size of the model (e.g. 512 for Bert).\n",
      "  warnings.warn(\n"
     ]
    },
    {
     "name": "stdout",
     "output_type": "stream",
     "text": [
      "Total f1_score: 0.99990\n"
     ]
    }
   ],
   "source": [
    "my_model_reload.to(device)\n",
    "pred_labels = my_model_reload.predict(test_dataset['cdr3aa'])\n",
    "f1_sc = f1_score(ans, pred_labels)\n",
    "print('Total f1_score: %.5f' % f1_sc)\n"
   ]
  },
  {
   "cell_type": "code",
   "execution_count": null,
   "id": "7f764e08-e19c-401c-ac68-b133d3955679",
   "metadata": {},
   "outputs": [],
   "source": []
  },
  {
   "cell_type": "code",
   "execution_count": null,
   "id": "bc5158d7-3f95-440e-b050-2e70de8c1ff6",
   "metadata": {},
   "outputs": [],
   "source": []
  },
  {
   "cell_type": "code",
   "execution_count": null,
   "id": "e8e99c29-832a-41e6-a7d5-12ba2567ab6a",
   "metadata": {},
   "outputs": [],
   "source": []
  },
  {
   "cell_type": "markdown",
   "id": "357b181e-deb4-42f8-8aca-ce3c5f0fabae",
   "metadata": {},
   "source": [
    "# ProtTrans model"
   ]
  },
  {
   "cell_type": "code",
   "execution_count": 29,
   "id": "b71beeca-4156-4530-8ba1-1b87491892a1",
   "metadata": {},
   "outputs": [],
   "source": [
    "from sklearn.model_selection import train_test_split\n",
    "\n",
    "train_df, val_df = train_test_split(compl_df, test_size=0.2, random_state=42)"
   ]
  },
  {
   "cell_type": "code",
   "execution_count": 30,
   "id": "a78c7417-9efa-4900-bea7-28e8168683b5",
   "metadata": {},
   "outputs": [
    {
     "data": {
      "text/html": [
       "<div>\n",
       "<style scoped>\n",
       "    .dataframe tbody tr th:only-of-type {\n",
       "        vertical-align: middle;\n",
       "    }\n",
       "\n",
       "    .dataframe tbody tr th {\n",
       "        vertical-align: top;\n",
       "    }\n",
       "\n",
       "    .dataframe thead th {\n",
       "        text-align: right;\n",
       "    }\n",
       "</style>\n",
       "<table border=\"1\" class=\"dataframe\">\n",
       "  <thead>\n",
       "    <tr style=\"text-align: right;\">\n",
       "      <th></th>\n",
       "      <th>sequence</th>\n",
       "      <th>label</th>\n",
       "    </tr>\n",
       "  </thead>\n",
       "  <tbody>\n",
       "    <tr>\n",
       "      <th>33098</th>\n",
       "      <td>C A S S F G G Q G Y G Y T F</td>\n",
       "      <td>1</td>\n",
       "    </tr>\n",
       "    <tr>\n",
       "      <th>729</th>\n",
       "      <td>C A V T L S S G N T P L V F</td>\n",
       "      <td>0</td>\n",
       "    </tr>\n",
       "    <tr>\n",
       "      <th>13914</th>\n",
       "      <td>C I V R S R A S N F G N E K L T F</td>\n",
       "      <td>0</td>\n",
       "    </tr>\n",
       "    <tr>\n",
       "      <th>16831</th>\n",
       "      <td>C A S S L R D S H S G N T I Y F</td>\n",
       "      <td>1</td>\n",
       "    </tr>\n",
       "    <tr>\n",
       "      <th>625</th>\n",
       "      <td>C A V T Y T G G F K T I F</td>\n",
       "      <td>0</td>\n",
       "    </tr>\n",
       "    <tr>\n",
       "      <th>...</th>\n",
       "      <td>...</td>\n",
       "      <td>...</td>\n",
       "    </tr>\n",
       "    <tr>\n",
       "      <th>35663</th>\n",
       "      <td>C A S S Y Y G Q G D Q P Q H F</td>\n",
       "      <td>1</td>\n",
       "    </tr>\n",
       "    <tr>\n",
       "      <th>21335</th>\n",
       "      <td>C A S S P G G F N S P L H F</td>\n",
       "      <td>1</td>\n",
       "    </tr>\n",
       "    <tr>\n",
       "      <th>36687</th>\n",
       "      <td>C A S S M D R A N T E A F F</td>\n",
       "      <td>1</td>\n",
       "    </tr>\n",
       "    <tr>\n",
       "      <th>37266</th>\n",
       "      <td>C A S S F A G G G T D T Q Y F</td>\n",
       "      <td>1</td>\n",
       "    </tr>\n",
       "    <tr>\n",
       "      <th>25744</th>\n",
       "      <td>C S A P P T G L Y N E Q F F</td>\n",
       "      <td>1</td>\n",
       "    </tr>\n",
       "  </tbody>\n",
       "</table>\n",
       "<p>8038 rows × 2 columns</p>\n",
       "</div>"
      ],
      "text/plain": [
       "                                sequence  label\n",
       "33098        C A S S F G G Q G Y G Y T F      1\n",
       "729          C A V T L S S G N T P L V F      0\n",
       "13914  C I V R S R A S N F G N E K L T F      0\n",
       "16831    C A S S L R D S H S G N T I Y F      1\n",
       "625            C A V T Y T G G F K T I F      0\n",
       "...                                  ...    ...\n",
       "35663      C A S S Y Y G Q G D Q P Q H F      1\n",
       "21335        C A S S P G G F N S P L H F      1\n",
       "36687        C A S S M D R A N T E A F F      1\n",
       "37266      C A S S F A G G G T D T Q Y F      1\n",
       "25744        C S A P P T G L Y N E Q F F      1\n",
       "\n",
       "[8038 rows x 2 columns]"
      ]
     },
     "execution_count": 30,
     "metadata": {},
     "output_type": "execute_result"
    }
   ],
   "source": [
    "train_df = train_df.rename({'cdr3aa': 'sequence', 'type': 'label'}, axis=1)\n",
    "val_df = val_df.rename({'cdr3aa': 'sequence', 'type': 'label'}, axis=1)\n",
    "train_df[\"sequence\"]=train_df[\"sequence\"].str.replace('|'.join([\"O\",\"B\",\"U\",\"Z\"]),\"X\",regex=True)\n",
    "val_df[\"sequence\"]=val_df[\"sequence\"].str.replace('|'.join([\"O\",\"B\",\"U\",\"Z\"]),\"X\",regex=True)\n",
    "    \n",
    "val_df"
   ]
  },
  {
   "cell_type": "code",
   "execution_count": 33,
   "id": "31ca48b8-3397-4c8f-8430-1a1c76898d39",
   "metadata": {},
   "outputs": [],
   "source": [
    "tokenizer, model, history = train_per_protein(train_df, val_df, num_labels=2, batch=8, epochs=5, seed=42)"
   ]
  },
  {
   "cell_type": "code",
   "execution_count": 59,
   "id": "304dfce0-5271-466f-af68-c0b0f8b66f1c",
   "metadata": {},
   "outputs": [],
   "source": [
    "from models_mdf import load_model_, save_model\n",
    "# save_model(Prottrans,\"models/Prottrans_ab.pth\")\n",
    "\n",
    "tokenizer, Prottrans = load_model_(\"models/Prottrans_ab.pth\", num_labels=2, mixed=False)"
   ]
  },
  {
   "cell_type": "code",
   "execution_count": 55,
   "id": "881ed7e7-d423-492e-b546-7c5883055105",
   "metadata": {},
   "outputs": [
    {
     "data": {
      "text/html": [
       "<div>\n",
       "<style scoped>\n",
       "    .dataframe tbody tr th:only-of-type {\n",
       "        vertical-align: middle;\n",
       "    }\n",
       "\n",
       "    .dataframe tbody tr th {\n",
       "        vertical-align: top;\n",
       "    }\n",
       "\n",
       "    .dataframe thead th {\n",
       "        text-align: right;\n",
       "    }\n",
       "</style>\n",
       "<table border=\"1\" class=\"dataframe\">\n",
       "  <thead>\n",
       "    <tr style=\"text-align: right;\">\n",
       "      <th></th>\n",
       "      <th>sequence</th>\n",
       "    </tr>\n",
       "  </thead>\n",
       "  <tbody>\n",
       "    <tr>\n",
       "      <th>0</th>\n",
       "      <td>C A S S L A G A G P Y N E Q F F</td>\n",
       "    </tr>\n",
       "    <tr>\n",
       "      <th>1</th>\n",
       "      <td>C A S S F Q G T S S Y Y T F</td>\n",
       "    </tr>\n",
       "    <tr>\n",
       "      <th>2</th>\n",
       "      <td>C A I G I A G G N E Q F F</td>\n",
       "    </tr>\n",
       "    <tr>\n",
       "      <th>3</th>\n",
       "      <td>C A S S L A A S G G R Y T Q Y F</td>\n",
       "    </tr>\n",
       "    <tr>\n",
       "      <th>4</th>\n",
       "      <td>C A L A S Y G N N R L A F</td>\n",
       "    </tr>\n",
       "  </tbody>\n",
       "</table>\n",
       "</div>"
      ],
      "text/plain": [
       "                          sequence\n",
       "0  C A S S L A G A G P Y N E Q F F\n",
       "1      C A S S F Q G T S S Y Y T F\n",
       "2        C A I G I A G G N E Q F F\n",
       "3  C A S S L A A S G G R Y T Q Y F\n",
       "4        C A L A S Y G N N R L A F"
      ]
     },
     "execution_count": 55,
     "metadata": {},
     "output_type": "execute_result"
    }
   ],
   "source": [
    "my_test=test_dataset.rename({'cdr3aa': 'sequence'}, axis=1)\n",
    "my_test[\"sequence\"]=my_test[\"sequence\"].str.replace('|'.join([\"O\",\"B\",\"U\",\"Z\"]),\"X\",regex=True)\n",
    "\n",
    "my_test.head(5)"
   ]
  },
  {
   "cell_type": "code",
   "execution_count": 56,
   "id": "5d0dc984-1308-4618-8d83-eedd77f514eb",
   "metadata": {},
   "outputs": [],
   "source": [
    "from tqdm import tqdm"
   ]
  },
  {
   "cell_type": "code",
   "execution_count": 57,
   "id": "1812c85c-1f0d-42d0-ba3b-f7fc4b6bce66",
   "metadata": {},
   "outputs": [
    {
     "name": "stderr",
     "output_type": "stream",
     "text": [
      "100%|██████████| 2153/2153 [02:33<00:00, 14.00it/s]\n"
     ]
    }
   ],
   "source": [
    "#Use reloaded model\n",
    "model = Prottrans\n",
    "\n",
    "# Set the device to use\n",
    "device = torch.device('cuda') if torch.cuda.is_available() else torch.device('cpu')\n",
    "model.to(device)\n",
    "\n",
    "# create Dataset\n",
    "test_set=create_dataset(tokenizer, list(my_test['sequence']),list(ans))\n",
    "# make compatible with torch DataLoader\n",
    "test_set = test_set.with_format(\"torch\", device=device)\n",
    "\n",
    "# Create a dataloader for the test dataset\n",
    "test_dataloader = DataLoader(test_set, batch_size=8, shuffle=False)\n",
    "\n",
    "# Put the model in evaluation mode\n",
    "model.eval()\n",
    "\n",
    "# Make predictions on the test dataset\n",
    "predictions = []\n",
    "with torch.no_grad():\n",
    "    for batch in tqdm(test_dataloader):\n",
    "        input_ids = batch['input_ids'].to(device)\n",
    "        attention_mask = batch['attention_mask'].to(device)\n",
    "        #add batch results(logits) to predictions\n",
    "        predictions += model(input_ids, attention_mask=attention_mask).logits.tolist()"
   ]
  },
  {
   "cell_type": "code",
   "execution_count": 58,
   "id": "bb93637d-d491-488c-806a-1853c62e9795",
   "metadata": {},
   "outputs": [
    {
     "name": "stdout",
     "output_type": "stream",
     "text": [
      "F1 score:  0.9996598804722804\n"
     ]
    }
   ],
   "source": [
    "predictions= [item.argmax() for item in np.array(predictions)]\n",
    "print(\"F1 score: \", f1_score(list(ans), predictions))"
   ]
  },
  {
   "cell_type": "code",
   "execution_count": null,
   "id": "ac950eed-099f-4bcb-a189-23d7da53dcd8",
   "metadata": {},
   "outputs": [],
   "source": []
  }
 ],
 "metadata": {
  "kernelspec": {
   "display_name": "Python [conda env:.conda-ft]",
   "language": "python",
   "name": "conda-env-.conda-ft-py"
  },
  "language_info": {
   "codemirror_mode": {
    "name": "ipython",
    "version": 3
   },
   "file_extension": ".py",
   "mimetype": "text/x-python",
   "name": "python",
   "nbconvert_exporter": "python",
   "pygments_lexer": "ipython3",
   "version": "3.9.18"
  }
 },
 "nbformat": 4,
 "nbformat_minor": 5
}
